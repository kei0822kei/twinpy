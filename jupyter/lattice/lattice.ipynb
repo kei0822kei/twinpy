{
 "cells": [
  {
   "cell_type": "markdown",
   "metadata": {},
   "source": [
    "# Guide for twinpy/lattice/lattice.py"
   ]
  },
  {
   "cell_type": "code",
   "execution_count": 1,
   "metadata": {},
   "outputs": [],
   "source": [
    "%aiida\n",
    "%load_ext autoreload\n",
    "%autoreload 2"
   ]
  },
  {
   "cell_type": "code",
   "execution_count": 2,
   "metadata": {},
   "outputs": [],
   "source": [
    "import os\n",
    "import sys\n",
    "from pprint import pprint\n",
    "import numpy as np\n",
    "import twinpy\n",
    "from twinpy.lattice.lattice import (check_hexagonal_lattice,\n",
    "                                    get_hexagonal_lattice_from_a_c,\n",
    "                                    Lattice)\n",
    "\n",
    "jupyter_dir = os.path.join(os.path.dirname(twinpy.__file__), '..', 'jupyter')\n",
    "sys.path.append(os.path.join(jupyter_dir, 'site-packages'))\n",
    "from jupyter_help import show_info"
   ]
  },
  {
   "cell_type": "markdown",
   "metadata": {},
   "source": [
    "# def get_heget_hexagonal_lattice_from_a_c"
   ]
  },
  {
   "cell_type": "code",
   "execution_count": 7,
   "metadata": {},
   "outputs": [
    {
     "name": "stdout",
     "output_type": "stream",
     "text": [
      "====== START method information ======\n",
      "\n",
      "# ---------\n",
      "# docstring\n",
      "# ---------\n",
      "\n",
      "    Get hexagonal lattice from the norms of a and c axes.\n",
      "\n",
      "    Args:\n",
      "        a (str): the norm of a axis\n",
      "        c (str): the norm of c axis\n",
      "\n",
      "    Returns:\n",
      "        np.array: hexagonal lattice\n",
      "\n",
      "    Raises:\n",
      "        AssertionError: either a or c is negative value\n",
      "    \n",
      "\n",
      "======= END method information =======\n",
      "\n",
      "\n"
     ]
    }
   ],
   "source": [
    "show_info(get_hexagonal_lattice_from_a_c)\n",
    "lat = get_hexagonal_lattice_from_a_c(a=2.93, c=4.65)"
   ]
  },
  {
   "cell_type": "markdown",
   "metadata": {},
   "source": [
    "# def check_hexagonal_lattice "
   ]
  },
  {
   "cell_type": "code",
   "execution_count": 8,
   "metadata": {},
   "outputs": [
    {
     "name": "stdout",
     "output_type": "stream",
     "text": [
      "====== START method information ======\n",
      "\n",
      "# ---------\n",
      "# docstring\n",
      "# ---------\n",
      "\n",
      "    Check input lattice is hexagonal lattice.\n",
      "\n",
      "    Args:\n",
      "        lattice (np.array): lattice\n",
      "\n",
      "    Raises:\n",
      "        AssertionError: the angles are not (90, 90, 120)\n",
      "\n",
      "    Note:\n",
      "        Check the angles of input lattice are (90, 90, 120).\n",
      "\n",
      "    TODO:\n",
      "        Add tolerance of assert_allclose.\n",
      "    \n",
      "\n",
      "======= END method information =======\n",
      "\n",
      "\n"
     ]
    }
   ],
   "source": [
    "show_info(check_hexagonal_lattice)\n",
    "check_hexagonal_lattice(lat)"
   ]
  },
  {
   "cell_type": "markdown",
   "metadata": {},
   "source": [
    "# Lattice"
   ]
  },
  {
   "cell_type": "code",
   "execution_count": 12,
   "metadata": {},
   "outputs": [
    {
     "name": "stdout",
     "output_type": "stream",
     "text": [
      "====== START class information ======\n",
      "\n",
      "# ---------\n",
      "# docstring\n",
      "# ---------\n",
      "\n",
      "    Deals with lattice.\n",
      "    \n",
      "\n",
      "# ----\n",
      "# init\n",
      "# ----\n",
      "\n",
      "        Args:\n",
      "            lattice (np.array): lattice\n",
      "\n",
      "        Raises:\n",
      "            AssertionError: input lattice is not 3x3 numpy array\n",
      "        \n",
      "\n",
      "# ---------------\n",
      "# attribute names\n",
      "# ---------------\n",
      "['_lattice',\n",
      " '_volume',\n",
      " '_reciprocal_lattice',\n",
      " '_abc',\n",
      " '_angles',\n",
      " '_sin_angles',\n",
      " '_cos_angles',\n",
      " '_metric']\n",
      "\n",
      "# ------\n",
      "# values\n",
      "# ------\n",
      "{'_abc': array([2.93, 2.93, 4.65]),\n",
      " '_angles': (90.0, 90.0, 120.00000000000001),\n",
      " '_cos_angles': (0.0, 0.0, -0.5000000000000001),\n",
      " '_lattice': array([[ 2.93      ,  0.        ,  0.        ],\n",
      "       [-1.465     ,  2.53745443,  0.        ],\n",
      "       [ 0.        ,  0.        ,  4.65      ]]),\n",
      " '_metric': array([[ 8.5849 , -4.29245,  0.     ],\n",
      "       [-4.29245,  8.5849 ,  0.     ],\n",
      "       [ 0.     ,  0.     , 21.6225 ]]),\n",
      " '_reciprocal_lattice': array([[ 0.34129693,  0.19704787, -0.        ],\n",
      "       [ 0.        ,  0.39409575,  0.        ],\n",
      "       [ 0.        , -0.        ,  0.21505376]]),\n",
      " '_sin_angles': (1.0, 1.0, 0.8660254037844385),\n",
      " '_volume': 34.571547923612975}\n",
      "\n",
      "======= END class information =======\n",
      "\n",
      "\n"
     ]
    }
   ],
   "source": [
    "lattice = Lattice(lattice=lat)\n",
    "show_info(lattice, is_class=True)"
   ]
  },
  {
   "cell_type": "code",
   "execution_count": null,
   "metadata": {},
   "outputs": [],
   "source": []
  }
 ],
 "metadata": {
  "kernelspec": {
   "display_name": "aiida",
   "language": "python",
   "name": "aiida"
  },
  "language_info": {
   "codemirror_mode": {
    "name": "ipython",
    "version": 3
   },
   "file_extension": ".py",
   "mimetype": "text/x-python",
   "name": "python",
   "nbconvert_exporter": "python",
   "pygments_lexer": "ipython3",
   "version": "3.7.0"
  }
 },
 "nbformat": 4,
 "nbformat_minor": 4
}

{
 "cells": [
  {
   "cell_type": "markdown",
   "metadata": {},
   "source": [
    "# Guide for twinpy/interfaces/aiida/base.py"
   ]
  },
  {
   "cell_type": "code",
   "execution_count": 8,
   "metadata": {},
   "outputs": [],
   "source": [
    "%aiida\n",
    "%reload_ext autoreload\n",
    "%autoreload 2"
   ]
  },
  {
   "cell_type": "code",
   "execution_count": 14,
   "metadata": {},
   "outputs": [],
   "source": [
    "import os\n",
    "from pprint import pprint\n",
    "import numpy as np\n",
    "import twinpy\n",
    "from twinpy.interfaces.aiida import _WorkChain\n",
    "\n",
    "jupyter_dir = os.path.join(os.path.dirname(twinpy.__file__), '..', 'jupyter')\n",
    "sys.path.append(os.path.join(jupyter_dir, 'site-packages'))\n",
    "from jupyter_help import show_info\n",
    "\n",
    "vasp_pk = 211442  # twinpy"
   ]
  },
  {
   "cell_type": "markdown",
   "metadata": {},
   "source": [
    "# class _WorkChain"
   ]
  },
  {
   "cell_type": "code",
   "execution_count": 16,
   "metadata": {},
   "outputs": [
    {
     "name": "stdout",
     "output_type": "stream",
     "text": [
      "====== START class information ======\n",
      "\n",
      "# ---------\n",
      "# docstring\n",
      "# ---------\n",
      "\n",
      "    Aiida WorkChain class.\n",
      "    \n",
      "\n",
      "# ----\n",
      "# init\n",
      "# ----\n",
      "\n",
      "        Args:\n",
      "            node: aiida Node\n",
      "        \n",
      "\n",
      "# ---------------\n",
      "# attribute names\n",
      "# ---------------\n",
      "['_node',\n",
      " '_process_class',\n",
      " '_process_state',\n",
      " '_pk',\n",
      " '_label',\n",
      " '_description',\n",
      " '_exit_status']\n",
      "\n",
      "# ------\n",
      "# values\n",
      "# ------\n",
      "{'_description': 'relax_twinboundary',\n",
      " '_exit_status': 0,\n",
      " '_label': 'relax_twinboundary',\n",
      " '_node': <WorkChainNode: uuid: b596d7ac-18ac-4e03-bd5d-fbfbf4236b7b (pk: 211442) (aiida.workflows:vasp.vasp)>,\n",
      " '_pk': 211442,\n",
      " '_process_class': 'VaspWorkChain',\n",
      " '_process_state': 'finished'}\n",
      "\n",
      "======= END class information =======\n",
      "\n",
      "\n"
     ]
    }
   ],
   "source": [
    "workchain = _WorkChain(node=load_node(vasp_pk))\n",
    "show_info(workchain, is_class=True)"
   ]
  },
  {
   "cell_type": "markdown",
   "metadata": {},
   "source": [
    "### def _print_common_information"
   ]
  },
  {
   "cell_type": "code",
   "execution_count": 18,
   "metadata": {},
   "outputs": [
    {
     "name": "stdout",
     "output_type": "stream",
     "text": [
      "====== START method information ======\n",
      "\n",
      "# ---------\n",
      "# docstring\n",
      "# ---------\n",
      "None\n",
      "\n",
      "======= END method information =======\n",
      "\n",
      "\n",
      "# ---------------\n",
      "# About This Node\n",
      "# ---------------\n",
      "process class:VaspWorkChain\n",
      "process state:finished\n",
      "pk:211442\n",
      "label:relax_twinboundary\n",
      "description:relax_twinboundary\n",
      "exit status:0\n",
      "\n",
      "\n",
      "\n"
     ]
    }
   ],
   "source": [
    "show_info(workchain._print_common_information)\n",
    "workchain._print_common_information()"
   ]
  }
 ],
 "metadata": {
  "kernelspec": {
   "display_name": "twinpy",
   "language": "python",
   "name": "twinpy"
  },
  "language_info": {
   "codemirror_mode": {
    "name": "ipython",
    "version": 3
   },
   "file_extension": ".py",
   "mimetype": "text/x-python",
   "name": "python",
   "nbconvert_exporter": "python",
   "pygments_lexer": "ipython3",
   "version": "3.7.6"
  }
 },
 "nbformat": 4,
 "nbformat_minor": 4
}

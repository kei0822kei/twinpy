{
 "cells": [
  {
   "cell_type": "code",
   "execution_count": 1,
   "metadata": {},
   "outputs": [],
   "source": [
    "%aiida\n",
    "%reload_ext autoreload\n",
    "%autoreload 2"
   ]
  },
  {
   "cell_type": "code",
   "execution_count": 2,
   "metadata": {},
   "outputs": [],
   "source": [
    "from twinpy.interfaces.aiida import (AiidaVaspWorkChain,\n",
    "                                     AiidaRelaxWorkChain,\n",
    "                                     AiidaPhonopyWorkChain,\n",
    "                                     AiidaShearWorkChain,\n",
    "                                     AiidaTwinBoudnaryRelaxWorkChain,\n",
    "                                     )\n",
    "from twinpy.lattice.lattice import Lattice\n",
    "from twinpy.plot.base import line_chart\n",
    "from twinpy.plot.twinboundary import plane_diff\n",
    "from pprint import pprint\n",
    "import numpy as np\n",
    "from matplotlib import pyplot as plt\n",
    "# vasp_pk = 229130  # aiida\n",
    "# relax_pk = 228947  # aiida\n",
    "# phonopy_pk = 229205  # aiida\n",
    "# shear_pk = 228833  # aiida\n",
    "# twinboundary_relax_pk = 256223  # aiida\n",
    "\n",
    "vasp_pk = 211442  # twinpy\n",
    "relax_pk = 206058  # twinpy\n",
    "# phonopy_pk =  # twinpy\n",
    "# shear_pk =   # twinpy\n",
    "twinboundary_relax_pk = 205639  # twinpy\n",
    "twinboundary_relax_additional_relax_pk = [242660, 270031]"
   ]
  },
  {
   "cell_type": "markdown",
   "metadata": {},
   "source": [
    "# ShearWorkChain"
   ]
  },
  {
   "cell_type": "code",
   "execution_count": 12,
   "metadata": {},
   "outputs": [
    {
     "ename": "NameError",
     "evalue": "name 'ShearWorkChain' is not defined",
     "output_type": "error",
     "traceback": [
      "\u001b[0;31m---------------------------------------------------------------------------\u001b[0m",
      "\u001b[0;31mNameError\u001b[0m                                 Traceback (most recent call last)",
      "\u001b[0;32m<ipython-input-12-55bbbd0dcae5>\u001b[0m in \u001b[0;36m<module>\u001b[0;34m\u001b[0m\n\u001b[0;32m----> 1\u001b[0;31m \u001b[0maiida_shear\u001b[0m \u001b[0;34m=\u001b[0m \u001b[0mShearWorkChain\u001b[0m\u001b[0;34m(\u001b[0m\u001b[0mpk\u001b[0m\u001b[0;34m=\u001b[0m\u001b[0mshear_pk\u001b[0m\u001b[0;34m)\u001b[0m\u001b[0;34m\u001b[0m\u001b[0;34m\u001b[0m\u001b[0m\n\u001b[0m",
      "\u001b[0;31mNameError\u001b[0m: name 'ShearWorkChain' is not defined"
     ]
    }
   ],
   "source": [
    "aiida_shear = ShearWorkChain(pk=shear_pk)"
   ]
  },
  {
   "cell_type": "code",
   "execution_count": 13,
   "metadata": {},
   "outputs": [
    {
     "name": "stdout",
     "output_type": "stream",
     "text": [
      "# ----------\n",
      "# properties\n",
      "# ----------\n"
     ]
    },
    {
     "ename": "NameError",
     "evalue": "name 'aiida_shear' is not defined",
     "output_type": "error",
     "traceback": [
      "\u001b[0;31m---------------------------------------------------------------------------\u001b[0m",
      "\u001b[0;31mNameError\u001b[0m                                 Traceback (most recent call last)",
      "\u001b[0;32m<ipython-input-13-b5ebdf626a40>\u001b[0m in \u001b[0;36m<module>\u001b[0;34m\u001b[0m\n\u001b[1;32m      2\u001b[0m \u001b[0mprint\u001b[0m\u001b[0;34m(\u001b[0m\u001b[0;34m\"# properties\"\u001b[0m\u001b[0;34m)\u001b[0m\u001b[0;34m\u001b[0m\u001b[0;34m\u001b[0m\u001b[0m\n\u001b[1;32m      3\u001b[0m \u001b[0mprint\u001b[0m\u001b[0;34m(\u001b[0m\u001b[0;34m\"# ----------\"\u001b[0m\u001b[0;34m)\u001b[0m\u001b[0;34m\u001b[0m\u001b[0;34m\u001b[0m\u001b[0m\n\u001b[0;32m----> 4\u001b[0;31m \u001b[0mprint\u001b[0m\u001b[0;34m(\u001b[0m\u001b[0;34m\"# pk: {}\"\u001b[0m\u001b[0;34m.\u001b[0m\u001b[0mformat\u001b[0m\u001b[0;34m(\u001b[0m\u001b[0maiida_shear\u001b[0m\u001b[0;34m.\u001b[0m\u001b[0mpk\u001b[0m\u001b[0;34m)\u001b[0m\u001b[0;34m)\u001b[0m\u001b[0;34m\u001b[0m\u001b[0;34m\u001b[0m\u001b[0m\n\u001b[0m\u001b[1;32m      5\u001b[0m \u001b[0mprint\u001b[0m\u001b[0;34m(\u001b[0m\u001b[0;34m\"# node: {}\"\u001b[0m\u001b[0;34m.\u001b[0m\u001b[0mformat\u001b[0m\u001b[0;34m(\u001b[0m\u001b[0maiida_shear\u001b[0m\u001b[0;34m.\u001b[0m\u001b[0mnode\u001b[0m\u001b[0;34m)\u001b[0m\u001b[0;34m)\u001b[0m\u001b[0;34m\u001b[0m\u001b[0;34m\u001b[0m\u001b[0m\n\u001b[1;32m      6\u001b[0m \u001b[0mprint\u001b[0m\u001b[0;34m(\u001b[0m\u001b[0;34m\"# shear_conf: {}\"\u001b[0m\u001b[0;34m.\u001b[0m\u001b[0mformat\u001b[0m\u001b[0;34m(\u001b[0m\u001b[0maiida_shear\u001b[0m\u001b[0;34m.\u001b[0m\u001b[0mshear_conf\u001b[0m\u001b[0;34m)\u001b[0m\u001b[0;34m)\u001b[0m\u001b[0;34m\u001b[0m\u001b[0;34m\u001b[0m\u001b[0m\n",
      "\u001b[0;31mNameError\u001b[0m: name 'aiida_shear' is not defined"
     ]
    }
   ],
   "source": [
    "print(\"# ----------\")\n",
    "print(\"# properties\")\n",
    "print(\"# ----------\")\n",
    "print(\"# pk: {}\".format(aiida_shear.pk))\n",
    "print(\"# node: {}\".format(aiida_shear.node))\n",
    "print(\"# shear_conf: {}\".format(aiida_shear.shear_conf))\n",
    "print(\"# shear_raitios: {}\".format(aiida_shear.shear_ratios))\n",
    "print(\"# gamma: {}\".format(aiida_shear.gamma))\n",
    "print(\"# input_cell:\")\n",
    "pprint(aiida_shear.hexagonal_cell)\n",
    "print(\"\")\n",
    "print(\"# shear original cells\")\n",
    "print(\"### the number of original cells\")\n",
    "print(len(aiida_shear.original_cells))\n",
    "print(\"### first original cell\")\n",
    "pprint(aiida_shear.original_cells[0])\n",
    "print(\"\")\n",
    "print(\"# relax pks\")\n",
    "print(aiida_shear.relax_pks)\n",
    "print(\"# relaxes\")\n",
    "print(\"### the number of relax objects\")\n",
    "print(len(aiida_shear.relaxes))\n",
    "print(\"\")\n",
    "print(\"# phonon pks\")\n",
    "print(aiida_shear.phonon_pks)\n",
    "print(\"# phonons\")\n",
    "print(\"### the number of phonon objects\")\n",
    "print(len(aiida_shear.phonons))\n",
    "print(\"\")\n",
    "print(\"# get pks\")\n",
    "pprint(aiida_shear.get_pks())\n",
    "print(\"\")\n",
    "print(\"# get ShearAnalyzer\")\n",
    "analyzer = aiida_shear.get_analyzer()\n",
    "print(type(analyzer))"
   ]
  }
 ],
 "metadata": {
  "kernelspec": {
   "display_name": "twinpy",
   "language": "python",
   "name": "twinpy"
  },
  "language_info": {
   "codemirror_mode": {
    "name": "ipython",
    "version": 3
   },
   "file_extension": ".py",
   "mimetype": "text/x-python",
   "name": "python",
   "nbconvert_exporter": "python",
   "pygments_lexer": "ipython3",
   "version": "3.7.6"
  }
 },
 "nbformat": 4,
 "nbformat_minor": 4
}

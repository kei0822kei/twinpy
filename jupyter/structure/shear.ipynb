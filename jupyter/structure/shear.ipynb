{
 "cells": [
  {
   "cell_type": "code",
   "execution_count": 3,
   "metadata": {},
   "outputs": [
    {
     "name": "stdout",
     "output_type": "stream",
     "text": [
      "The autoreload extension is already loaded. To reload it, use:\n",
      "  %reload_ext autoreload\n",
      "/home/mizo/project/aiida/site-packages/aiida-core/aiida/__init__.py\n"
     ]
    },
    {
     "ename": "ProfileConfigurationError",
     "evalue": "no default profile defined: None\n{'CONFIG_VERSION': {'CURRENT': 3, 'OLDEST_COMPATIBLE': 3}, 'profiles': {}}",
     "output_type": "error",
     "traceback": [
      "\u001b[0;31m---------------------------------------------------------------------------\u001b[0m",
      "\u001b[0;31mProfileConfigurationError\u001b[0m                 Traceback (most recent call last)",
      "\u001b[0;32m<ipython-input-3-b0cf528c8b86>\u001b[0m in \u001b[0;36m<module>\u001b[0;34m\u001b[0m\n\u001b[1;32m      4\u001b[0m \u001b[0;32mfrom\u001b[0m \u001b[0maiida\u001b[0m \u001b[0;32mimport\u001b[0m \u001b[0mload_profile\u001b[0m\u001b[0;34m\u001b[0m\u001b[0m\n\u001b[1;32m      5\u001b[0m \u001b[0mprint\u001b[0m\u001b[0;34m(\u001b[0m\u001b[0maiida\u001b[0m\u001b[0;34m.\u001b[0m\u001b[0m__file__\u001b[0m\u001b[0;34m)\u001b[0m\u001b[0;34m\u001b[0m\u001b[0m\n\u001b[0;32m----> 6\u001b[0;31m \u001b[0mload_profile\u001b[0m\u001b[0;34m(\u001b[0m\u001b[0;34m)\u001b[0m\u001b[0;34m\u001b[0m\u001b[0m\n\u001b[0m",
      "\u001b[0;32m~/project/aiida/site-packages/aiida-core/aiida/manage/configuration/__init__.py\u001b[0m in \u001b[0;36mload_profile\u001b[0;34m(profile)\u001b[0m\n\u001b[1;32m     49\u001b[0m         \u001b[0;32mreturn\u001b[0m \u001b[0mPROFILE\u001b[0m\u001b[0;34m\u001b[0m\u001b[0m\n\u001b[1;32m     50\u001b[0m \u001b[0;34m\u001b[0m\u001b[0m\n\u001b[0;32m---> 51\u001b[0;31m     \u001b[0mprofile\u001b[0m \u001b[0;34m=\u001b[0m \u001b[0mget_config\u001b[0m\u001b[0;34m(\u001b[0m\u001b[0;34m)\u001b[0m\u001b[0;34m.\u001b[0m\u001b[0mget_profile\u001b[0m\u001b[0;34m(\u001b[0m\u001b[0mprofile\u001b[0m\u001b[0;34m)\u001b[0m\u001b[0;34m\u001b[0m\u001b[0m\n\u001b[0m\u001b[1;32m     52\u001b[0m \u001b[0;34m\u001b[0m\u001b[0m\n\u001b[1;32m     53\u001b[0m     \u001b[0;32mif\u001b[0m \u001b[0mBACKEND_UUID\u001b[0m \u001b[0;32mis\u001b[0m \u001b[0;32mnot\u001b[0m \u001b[0;32mNone\u001b[0m \u001b[0;32mand\u001b[0m \u001b[0mBACKEND_UUID\u001b[0m \u001b[0;34m!=\u001b[0m \u001b[0mprofile\u001b[0m\u001b[0;34m.\u001b[0m\u001b[0muuid\u001b[0m\u001b[0;34m:\u001b[0m\u001b[0;34m\u001b[0m\u001b[0m\n",
      "\u001b[0;32m~/project/aiida/site-packages/aiida-core/aiida/manage/configuration/config.py\u001b[0m in \u001b[0;36mget_profile\u001b[0;34m(self, name)\u001b[0m\n\u001b[1;32m    248\u001b[0m         \u001b[0;32mif\u001b[0m \u001b[0;32mnot\u001b[0m \u001b[0mname\u001b[0m \u001b[0;32mand\u001b[0m \u001b[0;32mnot\u001b[0m \u001b[0mself\u001b[0m\u001b[0;34m.\u001b[0m\u001b[0mdefault_profile_name\u001b[0m\u001b[0;34m:\u001b[0m\u001b[0;34m\u001b[0m\u001b[0m\n\u001b[1;32m    249\u001b[0m             raise exceptions.ProfileConfigurationError(\n\u001b[0;32m--> 250\u001b[0;31m                 \u001b[0;34m'no default profile defined: {}\\n{}'\u001b[0m\u001b[0;34m.\u001b[0m\u001b[0mformat\u001b[0m\u001b[0;34m(\u001b[0m\u001b[0mself\u001b[0m\u001b[0;34m.\u001b[0m\u001b[0m_default_profile\u001b[0m\u001b[0;34m,\u001b[0m \u001b[0mself\u001b[0m\u001b[0;34m.\u001b[0m\u001b[0mdictionary\u001b[0m\u001b[0;34m)\u001b[0m\u001b[0;34m\u001b[0m\u001b[0m\n\u001b[0m\u001b[1;32m    251\u001b[0m             )\n\u001b[1;32m    252\u001b[0m \u001b[0;34m\u001b[0m\u001b[0m\n",
      "\u001b[0;31mProfileConfigurationError\u001b[0m: no default profile defined: None\n{'CONFIG_VERSION': {'CURRENT': 3, 'OLDEST_COMPATIBLE': 3}, 'profiles': {}}"
     ]
    }
   ],
   "source": [
    "%aiida\n",
    "%load_ext autoreload\n",
    "%autoreload 2"
   ]
  },
  {
   "cell_type": "code",
   "execution_count": 108,
   "metadata": {},
   "outputs": [],
   "source": [
    "from pprint import pprint \n",
    "from twinpy.lattice.lattice import get_hexagonal_lattice_from_a_c\n",
    "from twinpy.structure.shear import ShearStructure"
   ]
  },
  {
   "cell_type": "code",
   "execution_count": 114,
   "metadata": {},
   "outputs": [],
   "source": [
    "lattice = get_hexagonal_lattice_from_a_c(a=2.93, c=4.65)\n",
    "shear = ShearStructure(lattice=lattice,\n",
    "                       symbol='Ti',\n",
    "                       twinmode='10-12',\n",
    "                       wyckoff='c',\n",
    "                       ratio=0.5)"
   ]
  },
  {
   "cell_type": "code",
   "execution_count": 115,
   "metadata": {},
   "outputs": [
    {
     "name": "stdout",
     "output_type": "stream",
     "text": [
      "# get gamma\n",
      "0.17510563927816591\n",
      "\n",
      "# get shear matrix\n",
      "[[1.         0.         0.        ]\n",
      " [0.         1.         0.08721917]\n",
      " [0.         0.         1.        ]]\n"
     ]
    }
   ],
   "source": [
    "print(\"# get gamma\")\n",
    "print(shear.get_gamma())\n",
    "print(\"\")\n",
    "\n",
    "shear.shear_strain_ratio\n",
    "print(\"# get shear matrix\")\n",
    "print(shear.get_shear_matrix())"
   ]
  },
  {
   "cell_type": "code",
   "execution_count": 116,
   "metadata": {},
   "outputs": [
    {
     "name": "stdout",
     "output_type": "stream",
     "text": [
      "#---------------\n",
      "# lattice points\n",
      "#---------------\n",
      "\n",
      "(array([[ 1.465     , -2.53745443,  0.        ],\n",
      "       [ 4.395     ,  2.53745443,  4.65      ],\n",
      "       [-4.01167175, -2.31613977,  5.05556913]]),\n",
      " array([[0.  , 0.  , 0.  ],\n",
      "       [0.5 , 0.25, 0.75],\n",
      "       [0.  , 0.5 , 0.5 ],\n",
      "       [0.5 , 0.75, 0.25]]),\n",
      " ['white', 'white', 'white', 'white'])\n",
      "\n",
      "(array([[ 1.465     , -2.53745443,  0.        ],\n",
      "       [ 4.395     ,  2.53745443,  4.65      ],\n",
      "       [-4.01167175, -2.31613977,  5.05556913]]),\n",
      " array([[0.1 , 0.2 , 0.  ],\n",
      "       [0.6 , 0.45, 0.75],\n",
      "       [0.1 , 0.7 , 0.5 ],\n",
      "       [0.6 , 0.95, 0.25]]),\n",
      " ['white', 'white', 'white', 'white'])\n",
      "\n",
      "(array([[ 2.93      , -5.07490887,  0.        ],\n",
      "       [ 4.395     ,  2.53745443,  4.65      ],\n",
      "       [-4.01167175, -2.31613977,  5.05556913]]),\n",
      " array([[0.  , 0.  , 0.  ],\n",
      "       [0.25, 0.25, 0.75],\n",
      "       [0.5 , 0.5 , 0.5 ],\n",
      "       [0.75, 0.75, 0.25],\n",
      "       [0.5 , 0.  , 0.  ],\n",
      "       [0.75, 0.25, 0.75],\n",
      "       [0.  , 0.5 , 0.5 ],\n",
      "       [0.25, 0.75, 0.25]]),\n",
      " ['white', 'white', 'white', 'white', 'white', 'white', 'white', 'white'])\n",
      "\n",
      "(array([[ 2.93      , -5.07490887,  0.        ],\n",
      "       [ 4.395     ,  2.53745443,  4.65      ],\n",
      "       [-4.01167175, -2.31613977,  5.05556913]]),\n",
      " array([[0.05, 0.2 , 0.  ],\n",
      "       [0.3 , 0.45, 0.75],\n",
      "       [0.55, 0.7 , 0.5 ],\n",
      "       [0.8 , 0.95, 0.25],\n",
      "       [0.55, 0.2 , 0.  ],\n",
      "       [0.8 , 0.45, 0.75],\n",
      "       [0.05, 0.7 , 0.5 ],\n",
      "       [0.3 , 0.95, 0.25]]),\n",
      " ['white', 'white', 'white', 'white', 'white', 'white', 'white', 'white'])\n"
     ]
    }
   ],
   "source": [
    "print(\"#---------------\")\n",
    "print(\"# lattice points\")\n",
    "print(\"#---------------\")\n",
    "print(\"\")\n",
    "pprint(shear.get_shear_lattice())\n",
    "print(\"\")\n",
    "pprint(shear.get_shear_lattice(xshift=0.1, yshift=0.2))\n",
    "print(\"\")\n",
    "pprint(shear.get_shear_lattice(dim=(2,1,1)))\n",
    "print(\"\")\n",
    "pprint(shear.get_shear_lattice(dim=(2,1,1), xshift=0.1, yshift=0.2))"
   ]
  },
  {
   "cell_type": "code",
   "execution_count": 117,
   "metadata": {},
   "outputs": [
    {
     "name": "stdout",
     "output_type": "stream",
     "text": [
      "{'atoms_from_lattice_points': {'white': array([[ 0.33333333, -0.33333333,  0.25      ],\n",
      "       [-0.33333333,  0.33333333, -0.25      ]])},\n",
      " 'lattice': array([[ 1.465     , -2.53745443,  0.        ],\n",
      "       [ 4.395     ,  2.53745443,  4.65      ],\n",
      "       [-4.01167175, -2.31613977,  5.05556913]]),\n",
      " 'lattice_points': {'white': array([[0.  , 0.  , 0.  ],\n",
      "       [0.5 , 0.25, 0.75],\n",
      "       [0.  , 0.5 , 0.5 ],\n",
      "       [0.5 , 0.75, 0.25]])},\n",
      " 'symbols': ['Ti', 'Ti', 'Ti', 'Ti', 'Ti', 'Ti', 'Ti', 'Ti']}\n"
     ]
    }
   ],
   "source": [
    "# shear.run(dim=(2,1,1), xshift=0.1, yshift=0.2)\n",
    "shear.run(dim=(1,1,1))\n",
    "pprint(shear.output_structure)"
   ]
  },
  {
   "cell_type": "code",
   "execution_count": 118,
   "metadata": {},
   "outputs": [
    {
     "name": "stdout",
     "output_type": "stream",
     "text": [
      "# output cell\n",
      "(array([[ 1.465     , -2.53745443,  0.        ],\n",
      "       [ 4.395     ,  2.53745443,  4.65      ],\n",
      "       [-4.01167175, -2.31613977,  5.05556913]]), array([[0.33333333, 0.66666667, 0.25      ],\n",
      "       [0.66666667, 0.33333333, 0.75      ],\n",
      "       [0.83333333, 0.91666667, 0.        ],\n",
      "       [0.16666667, 0.58333333, 0.5       ],\n",
      "       [0.33333333, 0.16666667, 0.75      ],\n",
      "       [0.66666667, 0.83333333, 0.25      ],\n",
      "       [0.83333333, 0.41666667, 0.5       ],\n",
      "       [0.16666667, 0.08333333, 0.        ]]), ['Ti', 'Ti', 'Ti', 'Ti', 'Ti', 'Ti', 'Ti', 'Ti'])\n",
      "\n",
      "# pymatgen structure\n",
      "Full Formula (Ti8)\n",
      "Reduced Formula: Ti\n",
      "abc   :   2.930000   6.883110   6.856879\n",
      "angles:  90.000000  90.000000  90.000000\n",
      "Sites (8)\n",
      "  #  SP           a         b     c\n",
      "---  ----  --------  --------  ----\n",
      "  0  Ti    0.333333  0.666667  0.25\n",
      "  1  Ti    0.666667  0.333333  0.75\n",
      "  2  Ti    0.833333  0.916667  0\n",
      "  3  Ti    0.166667  0.583333  0.5\n",
      "  4  Ti    0.333333  0.166667  0.75\n",
      "  5  Ti    0.666667  0.833333  0.25\n",
      "  6  Ti    0.833333  0.416667  0.5\n",
      "  7  Ti    0.166667  0.083333  0\n"
     ]
    }
   ],
   "source": [
    "print(\"# output cell\")\n",
    "cell = shear.get_structure_for_export()\n",
    "print(cell)\n",
    "print(\"\")\n",
    "print(\"# pymatgen structure\")\n",
    "print(shear.get_pymatgen_structure())"
   ]
  },
  {
   "cell_type": "code",
   "execution_count": 119,
   "metadata": {},
   "outputs": [
    {
     "name": "stdout",
     "output_type": "stream",
     "text": [
      "/home/mizo/POSCAR.poscar\n"
     ]
    }
   ],
   "source": [
    "shear.write_poscar(filename=\"/home/mizo/POSCAR.poscar\")"
   ]
  },
  {
   "cell_type": "code",
   "execution_count": 120,
   "metadata": {},
   "outputs": [
    {
     "ename": "NameError",
     "evalue": "name 'shea' is not defined",
     "output_type": "error",
     "traceback": [
      "\u001b[0;31m---------------------------------------------------------------------------\u001b[0m",
      "\u001b[0;31mNameError\u001b[0m                                 Traceback (most recent call last)",
      "\u001b[0;32m<ipython-input-120-4384b010b185>\u001b[0m in \u001b[0;36m<module>\u001b[0;34m\u001b[0m\n\u001b[0;32m----> 1\u001b[0;31m \u001b[0mshea\u001b[0m\u001b[0;34m\u001b[0m\u001b[0m\n\u001b[0m",
      "\u001b[0;31mNameError\u001b[0m: name 'shea' is not defined"
     ]
    }
   ],
   "source": [
    "shea"
   ]
  },
  {
   "cell_type": "code",
   "execution_count": 2,
   "metadata": {},
   "outputs": [],
   "source": []
  },
  {
   "cell_type": "code",
   "execution_count": null,
   "metadata": {},
   "outputs": [],
   "source": []
  }
 ],
 "metadata": {
  "kernelspec": {
   "display_name": "aiida",
   "language": "python",
   "name": "aiida"
  },
  "language_info": {
   "codemirror_mode": {
    "name": "ipython",
    "version": 3
   },
   "file_extension": ".py",
   "mimetype": "text/x-python",
   "name": "python",
   "nbconvert_exporter": "python",
   "pygments_lexer": "ipython3",
   "version": "3.7.0"
  }
 },
 "nbformat": 4,
 "nbformat_minor": 4
}

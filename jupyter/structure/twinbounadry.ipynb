{
 "cells": [
  {
   "cell_type": "code",
   "execution_count": 12,
   "metadata": {},
   "outputs": [
    {
     "name": "stdout",
     "output_type": "stream",
     "text": [
      "The autoreload extension is already loaded. To reload it, use:\n",
      "  %reload_ext autoreload\n"
     ]
    }
   ],
   "source": [
    "%aiida\n",
    "%load_ext autoreload\n",
    "%autoreload 2"
   ]
  },
  {
   "cell_type": "code",
   "execution_count": 13,
   "metadata": {},
   "outputs": [],
   "source": [
    "import numpy as np\n",
    "from pprint import pprint \n",
    "from twinpy.lattice.lattice import get_hexagonal_lattice_from_a_c\n",
    "from twinpy.structure.twinboundary import TwinBoundaryStructure"
   ]
  },
  {
   "cell_type": "markdown",
   "metadata": {},
   "source": [
    "# TwinBoundaryStructure class"
   ]
  },
  {
   "cell_type": "code",
   "execution_count": 18,
   "metadata": {},
   "outputs": [],
   "source": [
    "lattice = get_hexagonal_lattice_from_a_c(a=2.93, c=4.65)\n",
    "twinboundary = TwinBoundaryStructure(lattice=lattice,\n",
    "                                     symbol='Ti',\n",
    "                                     twinmode='10-12',\n",
    "                                     twintype=1,\n",
    "                                     wyckoff='c')"
   ]
  },
  {
   "cell_type": "code",
   "execution_count": 19,
   "metadata": {},
   "outputs": [
    {
     "name": "stdout",
     "output_type": "stream",
     "text": [
      "# rotaion matrix (crytal body rotation)\n",
      "array([[ 0.5       , -0.8660254 ,  0.        ],\n",
      "       [ 0.63851953,  0.36864942,  0.67556674],\n",
      "       [-0.58505796, -0.33778337,  0.73729884]])\n",
      "\n",
      "# twinmode\n",
      "10-12\n",
      "\n",
      "# twintype\n",
      "1\n",
      "\n",
      "# dichromatic operation\n",
      "array([[ 1,  0,  0],\n",
      "       [ 0,  1,  0],\n",
      "       [ 0,  0, -1]])\n"
     ]
    }
   ],
   "source": [
    "print(\"# rotaion matrix (crytal body rotation)\")\n",
    "pprint(twinboundary.rotation_matrix)\n",
    "print(\"\")\n",
    "print(\"# twinmode\")\n",
    "print(twinboundary.twinmode)\n",
    "print(\"\")\n",
    "print(\"# twintype\")\n",
    "print(twinboundary.twintype)\n",
    "print(\"\")\n",
    "print(\"# dichromatic operation\")\n",
    "pprint(twinboundary.dichromatic_operation)"
   ]
  }
 ],
 "metadata": {
  "kernelspec": {
   "display_name": "aiida",
   "language": "python",
   "name": "aiida"
  },
  "language_info": {
   "codemirror_mode": {
    "name": "ipython",
    "version": 3
   },
   "file_extension": ".py",
   "mimetype": "text/x-python",
   "name": "python",
   "nbconvert_exporter": "python",
   "pygments_lexer": "ipython3",
   "version": "3.7.0"
  }
 },
 "nbformat": 4,
 "nbformat_minor": 4
}

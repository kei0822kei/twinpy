{
 "cells": [
  {
   "cell_type": "markdown",
   "metadata": {},
   "source": [
    "# Guide for twinpy/analysis/phonon_analyzer.py"
   ]
  },
  {
   "cell_type": "code",
   "execution_count": 26,
   "metadata": {},
   "outputs": [],
   "source": [
    "%aiida\n",
    "%reload_ext autoreload\n",
    "%autoreload 2"
   ]
  },
  {
   "cell_type": "code",
   "execution_count": 27,
   "metadata": {},
   "outputs": [],
   "source": [
    "import os\n",
    "import sys\n",
    "from pprint import pprint\n",
    "import numpy as np\n",
    "import twinpy\n",
    "from twinpy.interfaces.aiida.base import get_cell_from_aiida\n",
    "from twinpy.interfaces.aiida.vasp import AiidaRelaxWorkChain\n",
    "from twinpy.interfaces.aiida.phonopy import AiidaPhonopyWorkChain\n",
    "from twinpy.analysis.phonon_analyzer import PhononAnalyzer\n",
    "from twinpy.plot.band_structure import (get_labels_band_paths_from_seekpath,\n",
    "                                        BandPlot)\n",
    "\n",
    "jupyter_dir = os.path.join(os.path.dirname(twinpy.__file__), '..', 'jupyter')\n",
    "sys.path.append(os.path.join(jupyter_dir, 'site-packages'))\n",
    "from jupyter_help import show_info\n",
    "\n",
    "orig_structure_pk = 315869  # twinpy Ti_pv shear_orig_003\n",
    "relax_pk = 316006  # twinpy Ti_pv shear_003 relax\n",
    "phonopy_pk = 318866  # twinpy Ti_pv shear_003 phonon"
   ]
  },
  {
   "cell_type": "markdown",
   "metadata": {},
   "source": [
    "# class PhononAnalyzer"
   ]
  },
  {
   "cell_type": "code",
   "execution_count": 28,
   "metadata": {},
   "outputs": [
    {
     "name": "stdout",
     "output_type": "stream",
     "text": [
      "====== START class information ======\n",
      "\n",
      "# ---------\n",
      "# docstring\n",
      "# ---------\n",
      "\n",
      "    Analize phonopy result.\n",
      "    \n",
      "\n",
      "# ----\n",
      "# init\n",
      "# ----\n",
      "\n",
      "        Args:\n",
      "            phonon: Phonopy class object.\n",
      "        \n",
      "\n",
      "# ---------------\n",
      "# attribute names\n",
      "# ---------------\n",
      "['__module__',\n",
      " '__doc__',\n",
      " '__init__',\n",
      " '_set_primitive_cell',\n",
      " 'primitive_cell',\n",
      " '_set_reciprocal_lattice',\n",
      " 'reciprocal_lattice',\n",
      " 'original_reciprocal_lattice',\n",
      " 'phonon',\n",
      " 'relax_analyzer',\n",
      " 'set_relax_analyzer',\n",
      " 'rotation_matrix',\n",
      " 'export_phonon',\n",
      " 'get_qpoints_from_original_to_primitive',\n",
      " 'get_qpoints_from_primitive_to_original',\n",
      " 'get_band_paths_from_original_to_primitive',\n",
      " 'get_band_paths_from_primitive_to_original',\n",
      " 'get_band_structure',\n",
      " 'run_mesh',\n",
      " 'get_total_dos',\n",
      " 'get_projected_dos',\n",
      " 'get_thermal_displacement_matrices',\n",
      " '__dict__',\n",
      " '__weakref__']\n",
      "\n",
      "# ------\n",
      "# values\n",
      "# ------\n",
      "mappingproxy({'__dict__': <attribute '__dict__' of 'PhononAnalyzer' objects>,\n",
      "              '__doc__': '\\n    Analize phonopy result.\\n    ',\n",
      "              '__init__': <function PhononAnalyzer.__init__ at 0x7f539412bb00>,\n",
      "              '__module__': 'twinpy.analysis.phonon_analyzer',\n",
      "              '__weakref__': <attribute '__weakref__' of 'PhononAnalyzer' objects>,\n",
      "              '_set_primitive_cell': <function PhononAnalyzer._set_primitive_cell at 0x7f539412b9e0>,\n",
      "              '_set_reciprocal_lattice': <function PhononAnalyzer._set_reciprocal_lattice at 0x7f539412b950>,\n",
      "              'export_phonon': <function PhononAnalyzer.export_phonon at 0x7f53942b5b90>,\n",
      "              'get_band_paths_from_original_to_primitive': <function PhononAnalyzer.get_band_paths_from_original_to_primitive at 0x7f538e0d1cb0>,\n",
      "              'get_band_paths_from_primitive_to_original': <function PhononAnalyzer.get_band_paths_from_primitive_to_original at 0x7f538e0d1560>,\n",
      "              'get_band_structure': <function PhononAnalyzer.get_band_structure at 0x7f538e0d1c20>,\n",
      "              'get_projected_dos': <function PhononAnalyzer.get_projected_dos at 0x7f538edc6dd0>,\n",
      "              'get_qpoints_from_original_to_primitive': <function PhononAnalyzer.get_qpoints_from_original_to_primitive at 0x7f53942b5170>,\n",
      "              'get_qpoints_from_primitive_to_original': <function PhononAnalyzer.get_qpoints_from_primitive_to_original at 0x7f5394225050>,\n",
      "              'get_thermal_displacement_matrices': <function PhononAnalyzer.get_thermal_displacement_matrices at 0x7f538edc6e60>,\n",
      "              'get_total_dos': <function PhononAnalyzer.get_total_dos at 0x7f538edc6d40>,\n",
      "              'original_reciprocal_lattice': <property object at 0x7f538e5b5fb0>,\n",
      "              'phonon': <property object at 0x7f538edd3050>,\n",
      "              'primitive_cell': <property object at 0x7f538e5b5ef0>,\n",
      "              'reciprocal_lattice': <property object at 0x7f538e5b5f50>,\n",
      "              'relax_analyzer': <property object at 0x7f538edd30b0>,\n",
      "              'rotation_matrix': <property object at 0x7f538edd3110>,\n",
      "              'run_mesh': <function PhononAnalyzer.run_mesh at 0x7f538edc6050>,\n",
      "              'set_relax_analyzer': <function PhononAnalyzer.set_relax_analyzer at 0x7f539412b560>})\n",
      "\n",
      "======= END class information =======\n",
      "\n",
      "\n"
     ]
    }
   ],
   "source": [
    "aiida_phonopy = AiidaPhonopyWorkChain(load_node(phonopy_pk))\n",
    "aiida_relax = AiidaRelaxWorkChain(load_node(relax_pk))\n",
    "original_cell = get_cell_from_aiida(load_node(orig_structure_pk))\n",
    "relax_analyzer = aiida_relax.get_relax_analyzer(original_cell=original_cell)\n",
    "phonon_analyzer = aiida_phonopy.get_phonon_analyzer(relax_analyzer=relax_analyzer)\n",
    "show_info(PhononAnalyzer, is_class=True)"
   ]
  },
  {
   "cell_type": "markdown",
   "metadata": {},
   "source": [
    "## def set_relax_analyzer"
   ]
  },
  {
   "cell_type": "code",
   "execution_count": 29,
   "metadata": {},
   "outputs": [
    {
     "name": "stdout",
     "output_type": "stream",
     "text": [
      "====== START method information ======\n",
      "\n",
      "# ---------\n",
      "# docstring\n",
      "# ---------\n",
      "\n",
      "        Set relax analyzer.\n",
      "\n",
      "        Args:\n",
      "            relax_analyzer: RelaxAnalyzer class object.\n",
      "        \n",
      "\n",
      "======= END method information =======\n",
      "\n",
      "\n",
      "# You can set relax_analyzer object with this function.\n"
     ]
    }
   ],
   "source": [
    "show_info(phonon_analyzer.set_relax_analyzer)\n",
    "print(\"# You can set relax_analyzer object \"\n",
    "      \"with this function.\")"
   ]
  },
  {
   "cell_type": "markdown",
   "metadata": {},
   "source": [
    "## def export_phonon"
   ]
  },
  {
   "cell_type": "code",
   "execution_count": 30,
   "metadata": {},
   "outputs": [
    {
     "name": "stdout",
     "output_type": "stream",
     "text": [
      "====== START method information ======\n",
      "\n",
      "# ---------\n",
      "# docstring\n",
      "# ---------\n",
      "\n",
      "        Export phonopy object to yaml file.\n",
      "\n",
      "        Args:\n",
      "            filename (str): Output filename. If None, filename becomes\n",
      "                            pk<number>_phonopy.yaml.\n",
      "        \n",
      "\n",
      "======= END method information =======\n",
      "\n",
      "\n"
     ]
    }
   ],
   "source": [
    "show_info(phonon_analyzer.export_phonon)\n",
    "filename = os.path.join(jupyter_dir, 'data', 'phonon', 'Mg_bulk_phonon.yaml')\n",
    "phonon_analyzer.export_phonon(filename=filename)"
   ]
  },
  {
   "cell_type": "markdown",
   "metadata": {},
   "source": [
    "## def get_band_structure"
   ]
  },
  {
   "cell_type": "code",
   "execution_count": 31,
   "metadata": {},
   "outputs": [
    {
     "name": "stdout",
     "output_type": "stream",
     "text": [
      "====== START method information ======\n",
      "\n",
      "# ---------\n",
      "# docstring\n",
      "# ---------\n",
      "\n",
      "        Get BandStructure class object.\n",
      "\n",
      "        Args:\n",
      "            band_paths (list): Band paths.\n",
      "            labels (list): Band labels.\n",
      "            npoints (int): The number of sampling points.\n",
      "            with_eigenvectors (bool): If True, calculte eigenvectors.\n",
      "        \n",
      "\n",
      "======= END method information =======\n",
      "\n",
      "\n"
     ]
    },
    {
     "data": {
      "text/plain": [
       "(<Figure size 576x432 with 4 Axes>,\n",
       " [<matplotlib.axes._axes.Axes at 0x7f538e7a5090>,\n",
       "  <matplotlib.axes._axes.Axes at 0x7f538e163e50>,\n",
       "  <matplotlib.axes._axes.Axes at 0x7f538e6ae710>,\n",
       "  <matplotlib.axes._axes.Axes at 0x7f538e768990>])"
      ]
     },
     "execution_count": 31,
     "metadata": {},
     "output_type": "execute_result"
    },
    {
     "data": {
      "image/png": "[encoded data removed]",
      "text/plain": [
       "<Figure size 576x432 with 4 Axes>"
      ]
     },
     "metadata": {
      "needs_background": "light"
     },
     "output_type": "display_data"
    }
   ],
   "source": [
    "labels, path_paths = get_labels_band_paths_from_seekpath(cell=phonon_analyzer.primitive_cell)\n",
    "show_info(phonon_analyzer.get_band_structure)\n",
    "band_structure = phonon_analyzer.get_band_structure(\n",
    "                     band_paths=path_paths,\n",
    "                     labels=labels)\n",
    "bp = BandPlot(band_structure)\n",
    "bp.plot_band_structure()"
   ]
  },
  {
   "cell_type": "markdown",
   "metadata": {},
   "source": [
    "## def run_mesh"
   ]
  },
  {
   "cell_type": "code",
   "execution_count": 32,
   "metadata": {},
   "outputs": [
    {
     "name": "stdout",
     "output_type": "stream",
     "text": [
      "====== START method information ======\n",
      "\n",
      "# ---------\n",
      "# docstring\n",
      "# ---------\n",
      "\n",
      "        Run mesh for both hexagonal and twinboundary phonon.\n",
      "\n",
      "        Args:\n",
      "            interval (float): mesh interval\n",
      "            is_store (bool): If True, result is stored in self._phonon.\n",
      "            get_phonon (bool): If True, return Phonopy class obejct,\n",
      "                               which is independent from self._phonon.\n",
      "            dry_run (bool): If True, show sampling mesh information\n",
      "                            and not run.\n",
      "        \n",
      "\n",
      "======= END method information =======\n",
      "\n",
      "\n",
      "# Dry run\n",
      "# interval: 0.1\n",
      "# sampling mesh: [26 26 14]\n",
      "# dry_run is evoked.\n",
      "\n",
      "run mesh with [26 26 14]\n"
     ]
    }
   ],
   "source": [
    "show_info(phonon_analyzer.run_mesh)\n",
    "print(\"# Dry run\")\n",
    "phonon_analyzer.run_mesh(\n",
    "    interval=0.1,\n",
    "    dry_run=True)\n",
    "print(\"\")\n",
    "phonon_analyzer.run_mesh(\n",
    "    interval=0.1,\n",
    "    is_store=True,\n",
    "    get_phonon=False,\n",
    "    is_eigenvectors=True,\n",
    "    dry_run=False)"
   ]
  },
  {
   "cell_type": "code",
   "execution_count": 33,
   "metadata": {},
   "outputs": [
    {
     "name": "stdout",
     "output_type": "stream",
     "text": [
      "====== START method information ======\n",
      "\n",
      "# ---------\n",
      "# docstring\n",
      "# ---------\n",
      "\n",
      "        Get total dos.\n",
      "\n",
      "        Args:\n",
      "            is_store (bool): If True, result is stored in self._phonon.total_dos\n",
      "        \n",
      "\n",
      "======= END method information =======\n",
      "\n",
      "\n"
     ]
    },
    {
     "data": {
      "text/plain": [
       "<phonopy.phonon.dos.TotalDos at 0x7f538e7a59d0>"
      ]
     },
     "execution_count": 33,
     "metadata": {},
     "output_type": "execute_result"
    }
   ],
   "source": [
    "show_info(phonon_analyzer.get_total_dos)\n",
    "phonon_analyzer.get_total_dos(\n",
    "    is_store=True,\n",
    "    sigma=None,\n",
    "    freq_min=None,\n",
    "    freq_max=None,\n",
    "    freq_pitch=None,\n",
    "    use_tetrahedron_method=True)"
   ]
  },
  {
   "cell_type": "markdown",
   "metadata": {},
   "source": [
    "## def get_thermal_displacement_matrices"
   ]
  },
  {
   "cell_type": "code",
   "execution_count": 8,
   "metadata": {},
   "outputs": [
    {
     "name": "stdout",
     "output_type": "stream",
     "text": [
      "====== START method information ======\n",
      "\n",
      "# ---------\n",
      "# docstring\n",
      "# ---------\n",
      "\n",
      "        Get ThermalDisplacementMatrices object for\n",
      "        both hexagonal and twinboundary.\n",
      "\n",
      "        Args:\n",
      "            t_step (int): temperature interval\n",
      "            t_max (int): max temperature\n",
      "            t_min (int): minimum temperature\n",
      "            with_original_cart (bool): if True, use twinboundary\n",
      "                                       original frame\n",
      "            def_cif (bool): if True, use cif definition\n",
      "\n",
      "        Todo:\n",
      "            I do not know how to rotate 4d array (temp, atoms, 3, 3).\n",
      "        \n",
      "\n",
      "======= END method information =======\n",
      "\n",
      "\n",
      "# shape\n",
      "(11, 2, 3, 3)\n"
     ]
    }
   ],
   "source": [
    "show_info(phonon_analyzer.get_thermal_displacement_matrices)\n",
    "thermal_matrices = phonon_analyzer.get_thermal_displacement_matrices(\n",
    "                       t_step=100,\n",
    "                       t_max=1000,\n",
    "                       t_min=0,\n",
    "                       with_original_cart=True,\n",
    "                       def_cif=False,\n",
    "                       )\n",
    "print(\"# shape\")\n",
    "print(thermal_matrices.shape)"
   ]
  }
 ],
 "metadata": {
  "kernelspec": {
   "display_name": "twinpy",
   "language": "python",
   "name": "twinpy"
  },
  "language_info": {
   "codemirror_mode": {
    "name": "ipython",
    "version": 3
   },
   "file_extension": ".py",
   "mimetype": "text/x-python",
   "name": "python",
   "nbconvert_exporter": "python",
   "pygments_lexer": "ipython3",
   "version": "3.7.7"
  }
 },
 "nbformat": 4,
 "nbformat_minor": 4
}

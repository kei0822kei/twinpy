{
 "cells": [
  {
   "cell_type": "markdown",
   "metadata": {},
   "source": [
    "# Guide for twinpy/analysis/relax_analyzer.py"
   ]
  },
  {
   "cell_type": "code",
   "execution_count": 2,
   "metadata": {},
   "outputs": [],
   "source": [
    "%aiida\n",
    "%reload_ext autoreload\n",
    "%autoreload 2"
   ]
  },
  {
   "cell_type": "code",
   "execution_count": 3,
   "metadata": {},
   "outputs": [],
   "source": [
    "import os\n",
    "import sys\n",
    "from pprint import pprint\n",
    "import numpy as np\n",
    "import twinpy\n",
    "from twinpy.interfaces.aiida import (get_cell_from_aiida,\n",
    "                                     AiidaRelaxWorkChain)\n",
    "from twinpy.analysis.relax_analyzer import RelaxAnalyzer\n",
    "\n",
    "jupyter_dir = os.path.join(os.path.dirname(twinpy.__file__), '..', 'jupyter')\n",
    "sys.path.append(os.path.join(jupyter_dir, 'site-packages'))\n",
    "from jupyter_help import show_info\n",
    "\n",
    "relax_pk = 316006  # twinpy Ti_pv shear\n",
    "orig_structure_pk = 315869"
   ]
  },
  {
   "cell_type": "markdown",
   "metadata": {},
   "source": [
    "# class RelaxAnalyzer"
   ]
  },
  {
   "cell_type": "code",
   "execution_count": 4,
   "metadata": {},
   "outputs": [
    {
     "name": "stdout",
     "output_type": "stream",
     "text": [
      "====== START class information ======\n",
      "\n",
      "# ---------\n",
      "# docstring\n",
      "# ---------\n",
      "\n",
      "    Analize relax result.\n",
      "    \n",
      "\n",
      "# ----\n",
      "# init\n",
      "# ----\n",
      "\n",
      "        Args:\n",
      "            initial_cell (tuple): Initial cell for vasp.\n",
      "            final_cell (tuple): Final cell of vasp\n",
      "            original_cell (tuple): Original cell whose standardized cell\n",
      "                                   is initail_cell.\n",
      "            forces (np.array): Forces acting on atoms in the final cell.\n",
      "            stress (np.array): Forces acting on the final cell.\n",
      "        \n",
      "\n",
      "# ---------------\n",
      "# attribute names\n",
      "# ---------------\n",
      "['_initial_cell',\n",
      " '_final_cell',\n",
      " '_original_cell',\n",
      " '_standardize',\n",
      " '_final_cell_in_original_frame',\n",
      " '_forces',\n",
      " '_stress']\n",
      "\n",
      "# ------\n",
      "# values\n",
      "# ------\n",
      "{'_final_cell': (array([[ 2.43641971, -1.44957754,  0.        ],\n",
      "       [ 2.43641971,  1.44957754,  0.        ],\n",
      "       [-0.01707824,  0.        ,  4.72829313]]),\n",
      "                 array([[0.32759891, 0.32759891, 0.24996677],\n",
      "       [0.67240109, 0.67240109, 0.75003323]]),\n",
      "                 ['Ti', 'Ti']),\n",
      " '_final_cell_in_original_frame': (array([[ 2.83394874, -0.03764689, -0.06879888],\n",
      "       [-1.44957754,  2.51074194,  0.        ],\n",
      "       [ 0.13041264,  0.07529377,  4.72592541]]),\n",
      "                                   array([[0.34480218, 0.67240109, 0.24996677],\n",
      "       [0.65519782, 0.32759891, 0.75003323]]),\n",
      "                                   ['Ti', 'Ti']),\n",
      " '_forces': array([[ 1.84e-06,  0.00e+00, -3.50e-07],\n",
      "       [-1.84e-06,  0.00e+00,  3.50e-07]]),\n",
      " '_initial_cell': (array([[ 2.43641971, -1.44957754,  0.        ],\n",
      "       [ 2.43641971,  1.44957754,  0.        ],\n",
      "       [-0.01707824,  0.        ,  4.72829313]]),\n",
      "                   array([[0.33333333, 0.33333333, 0.25      ],\n",
      "       [0.66666667, 0.66666667, 0.75      ]]),\n",
      "                   ['Ti', 'Ti']),\n",
      " '_original_cell': (array([[ 2.83394874, -0.03764689, -0.06879888],\n",
      "       [-1.44957754,  2.51074194,  0.        ],\n",
      "       [ 0.13041264,  0.07529377,  4.72592541]]),\n",
      "                    array([[0.33333333, 0.66666667, 0.25      ],\n",
      "       [0.66666667, 0.33333333, 0.75      ]]),\n",
      "                    ['Ti', 'Ti']),\n",
      " '_standardize': <twinpy.structure.standardize.StandardizeCell object at 0x7fd7f2e6a450>,\n",
      " '_stress': array([[ 31.61425957,   0.        ,   1.59927989],\n",
      "       [  0.        ,   1.78474329,   0.        ],\n",
      "       [  1.59927937,   0.        , -35.22707355]])}\n",
      "\n",
      "======= END class information =======\n",
      "\n",
      "\n"
     ]
    }
   ],
   "source": [
    "aiida_relax = AiidaRelaxWorkChain(load_node(relax_pk))\n",
    "initial_cell = aiida_relax.initial_cell\n",
    "final_cell = aiida_relax.final_cell\n",
    "original_cell = get_cell_from_aiida(load_node(orig_structure_pk))\n",
    "forces = aiida_relax.forces\n",
    "stress = aiida_relax.stress\n",
    "analyzer = RelaxAnalyzer(\n",
    "    initial_cell=initial_cell,\n",
    "    final_cell=final_cell,\n",
    "    original_cell=original_cell,\n",
    "    forces=forces,\n",
    "    stress=stress)\n",
    "show_info(analyzer, is_class=True)"
   ]
  },
  {
   "cell_type": "markdown",
   "metadata": {},
   "source": [
    "## def set_original_cell"
   ]
  },
  {
   "cell_type": "code",
   "execution_count": 8,
   "metadata": {},
   "outputs": [
    {
     "name": "stdout",
     "output_type": "stream",
     "text": [
      "====== START method information ======\n",
      "\n",
      "# ---------\n",
      "# docstring\n",
      "# ---------\n",
      "\n",
      "        Set original cell.\n",
      "\n",
      "        Args:\n",
      "            original_cell (tuple): Original cell whose standardized cell\n",
      "                                   is initail_cell.\n",
      "        \n",
      "\n",
      "======= END method information =======\n",
      "\n",
      "\n",
      "# You can set original cell after initialize object with this function.\n"
     ]
    }
   ],
   "source": [
    "show_info(analyzer.set_original_cell)\n",
    "print(\"# You can set original cell after initialize object \"\n",
    "      \"with this function.\")"
   ]
  },
  {
   "cell_type": "markdown",
   "metadata": {},
   "source": [
    "## def get_diff"
   ]
  },
  {
   "cell_type": "code",
   "execution_count": 31,
   "metadata": {},
   "outputs": [
    {
     "name": "stdout",
     "output_type": "stream",
     "text": [
      "====== START method information ======\n",
      "\n",
      "# ---------\n",
      "# docstring\n",
      "# ---------\n",
      "\n",
      "        Get structure diffs between initial cell and final cell.\n",
      "\n",
      "        Args:\n",
      "            is_original_frame (bool): If True, get diff in original frame.\n",
      "\n",
      "        Notes:\n",
      "            When you use is_original_frame=True, you have to set\n",
      "            original_cell before running this function.\n",
      "        \n",
      "\n",
      "======= END method information =======\n",
      "\n",
      "\n",
      "{'cart_norm_diffs': array([[0.0279428, 0.0279428]]),\n",
      " 'cart_posi_diffs': array([[[ 0.0241853 ,  0.01396339, -0.00094609],\n",
      "        [-0.0241853 , -0.01396339,  0.00094609]]]),\n",
      " 'lattice_diffs': array([[[0., 0., 0.],\n",
      "        [0., 0., 0.],\n",
      "        [0., 0., 0.]]]),\n",
      " 'scaled_posi_diffs': array([[[ 1.14688467e-02,  5.73442333e-03, -3.32300000e-05],\n",
      "        [-1.14688467e-02, -5.73442333e-03,  3.32300000e-05]]])}\n"
     ]
    }
   ],
   "source": [
    "show_info(analyzer.get_diff)\n",
    "pprint(analyzer.get_diff(is_original_frame=True))"
   ]
  }
 ],
 "metadata": {
  "kernelspec": {
   "display_name": "twinpy",
   "language": "python",
   "name": "twinpy"
  },
  "language_info": {
   "codemirror_mode": {
    "name": "ipython",
    "version": 3
   },
   "file_extension": ".py",
   "mimetype": "text/x-python",
   "name": "python",
   "nbconvert_exporter": "python",
   "pygments_lexer": "ipython3",
   "version": "3.7.6"
  }
 },
 "nbformat": 4,
 "nbformat_minor": 4
}

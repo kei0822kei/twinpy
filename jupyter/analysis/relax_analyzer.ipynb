{
 "cells": [
  {
   "cell_type": "markdown",
   "metadata": {},
   "source": [
    "# Guide for twinpy/analysis/relax_analyzer.py"
   ]
  },
  {
   "cell_type": "code",
   "execution_count": 1,
   "metadata": {},
   "outputs": [],
   "source": [
    "%aiida\n",
    "%reload_ext autoreload\n",
    "%autoreload 2"
   ]
  },
  {
   "cell_type": "code",
   "execution_count": 2,
   "metadata": {},
   "outputs": [],
   "source": [
    "import os\n",
    "import sys\n",
    "from pprint import pprint\n",
    "import numpy as np\n",
    "import twinpy\n",
    "from twinpy.interfaces.aiida import (get_cell_from_aiida,\n",
    "                                     AiidaRelaxWorkChain)\n",
    "from twinpy.analysis.relax_analyzer import RelaxAnalyzer\n",
    "\n",
    "jupyter_dir = os.path.join(os.path.dirname(twinpy.__file__), '..', 'jupyter')\n",
    "sys.path.append(os.path.join(jupyter_dir, 'site-packages'))\n",
    "from jupyter_help import show_info\n",
    "\n",
    "relax_pk = 316006  # twinpy Ti_pv shear\n",
    "orig_structure_pk = 315869"
   ]
  },
  {
   "cell_type": "markdown",
   "metadata": {},
   "source": [
    "# class RelaxAnalyzer"
   ]
  },
  {
   "cell_type": "code",
   "execution_count": 3,
   "metadata": {},
   "outputs": [
    {
     "name": "stdout",
     "output_type": "stream",
     "text": [
      "====== START class information ======\n",
      "\n",
      "# ---------\n",
      "# docstring\n",
      "# ---------\n",
      "\n",
      "    Analize relax result.\n",
      "    \n",
      "\n",
      "# ----\n",
      "# init\n",
      "# ----\n",
      "\n",
      "        Args:\n",
      "            initial_cell (tuple): Initial cell for vasp.\n",
      "            final_cell (tuple): Final cell of vasp\n",
      "            original_cell (tuple): Original cell whose standardized cell\n",
      "                                   is initail_cell.\n",
      "            forces (np.array): Forces acting on atoms in the final cell.\n",
      "            stress (np.array): Forces acting on the final cell.\n",
      "        \n",
      "\n",
      "# ---------------\n",
      "# attribute names\n",
      "# ---------------\n",
      "['_initial_cell',\n",
      " '_final_cell',\n",
      " '_original_cell',\n",
      " '_final_cell_in_original_frame',\n",
      " '_standardize',\n",
      " '_forces',\n",
      " '_stress',\n",
      " '_energy']\n",
      "\n",
      "# ------\n",
      "# values\n",
      "# ------\n",
      "{'_energy': -16.59437767,\n",
      " '_final_cell': (array([[ 2.43641971, -1.44957754,  0.        ],\n",
      "       [ 2.43641971,  1.44957754,  0.        ],\n",
      "       [-0.01707824,  0.        ,  4.72829313]]),\n",
      "                 array([[0.32759891, 0.32759891, 0.24996677],\n",
      "       [0.67240109, 0.67240109, 0.75003323]]),\n",
      "                 ['Ti', 'Ti']),\n",
      " '_final_cell_in_original_frame': (array([[ 2.83394874e+00, -3.76468898e-02, -6.87988843e-02],\n",
      "       [-1.44957755e+00,  2.51074195e+00,  7.78011822e-11],\n",
      "       [ 1.30412638e-01,  7.52937721e-02,  4.72592541e+00]]),\n",
      "                                   array([[0.34480218, 0.67240109, 0.24996677],\n",
      "       [0.65519782, 0.32759891, 0.75003323]]),\n",
      "                                   ['Ti', 'Ti']),\n",
      " '_forces': array([[ 1.84e-06,  0.00e+00, -3.50e-07],\n",
      "       [-1.84e-06,  0.00e+00,  3.50e-07]]),\n",
      " '_initial_cell': (array([[ 2.43641971, -1.44957754,  0.        ],\n",
      "       [ 2.43641971,  1.44957754,  0.        ],\n",
      "       [-0.01707824,  0.        ,  4.72829313]]),\n",
      "                   array([[0.33333333, 0.33333333, 0.25      ],\n",
      "       [0.66666667, 0.66666667, 0.75      ]]),\n",
      "                   ['Ti', 'Ti']),\n",
      " '_original_cell': (array([[ 2.83394874, -0.03764689, -0.06879888],\n",
      "       [-1.44957754,  2.51074194,  0.        ],\n",
      "       [ 0.13041264,  0.07529377,  4.72592541]]),\n",
      "                    array([[0.33333333, 0.66666667, 0.25      ],\n",
      "       [0.66666667, 0.33333333, 0.75      ]]),\n",
      "                    ['Ti', 'Ti']),\n",
      " '_standardize': <twinpy.structure.standardize.StandardizeCell object at 0x7eff69bb64d0>,\n",
      " '_stress': array([[ 31.61425957,   0.        ,   1.59927989],\n",
      "       [  0.        ,   1.78474329,   0.        ],\n",
      "       [  1.59927937,   0.        , -35.22707355]])}\n",
      "\n",
      "======= END class information =======\n",
      "\n",
      "\n"
     ]
    }
   ],
   "source": [
    "aiida_relax = AiidaRelaxWorkChain(load_node(relax_pk))\n",
    "orig_cell = get_cell_from_aiida(load_node(orig_structure_pk))\n",
    "relax_analyzer = aiida_relax.get_relax_analyzer(original_cell=orig_cell)\n",
    "show_info(relax_analyzer, is_class=True)"
   ]
  },
  {
   "cell_type": "markdown",
   "metadata": {},
   "source": [
    "## def set_original_cell"
   ]
  },
  {
   "cell_type": "code",
   "execution_count": 4,
   "metadata": {},
   "outputs": [
    {
     "name": "stdout",
     "output_type": "stream",
     "text": [
      "====== START method information ======\n",
      "\n",
      "# ---------\n",
      "# docstring\n",
      "# ---------\n",
      "\n",
      "        Set original cell.\n",
      "\n",
      "        Args:\n",
      "            original_cell (tuple): Original cell whose standardized cell\n",
      "                                   is initail_cell.\n",
      "        \n",
      "\n",
      "======= END method information =======\n",
      "\n",
      "\n",
      "# You can set original cell after initialize object with this function.\n"
     ]
    }
   ],
   "source": [
    "show_info(relax_analyzer.set_original_cell)\n",
    "print(\"# You can set original cell after initialize object \"\n",
    "      \"with this function.\")"
   ]
  },
  {
   "cell_type": "markdown",
   "metadata": {},
   "source": [
    "## def get_diff"
   ]
  },
  {
   "cell_type": "code",
   "execution_count": 6,
   "metadata": {},
   "outputs": [
    {
     "name": "stdout",
     "output_type": "stream",
     "text": [
      "====== START method information ======\n",
      "\n",
      "# ---------\n",
      "# docstring\n",
      "# ---------\n",
      "\n",
      "        Get structure diffs between initial cell and final cell.\n",
      "\n",
      "        Args:\n",
      "            is_original_frame (bool): If True, get diff in original frame.\n",
      "\n",
      "        Notes:\n",
      "            When you use is_original_frame=True, you have to set\n",
      "            original_cell before running this function.\n",
      "        \n",
      "\n",
      "======= END method information =======\n",
      "\n",
      "\n",
      "{'cart_norm_diffs': array([[0.02794281, 0.02794281]]),\n",
      " 'cart_posi_diffs': array([[[ 0.02418531,  0.01396338, -0.00094609],\n",
      "        [-0.02418531, -0.01396338,  0.00094609]]]),\n",
      " 'lattice_diffs': array([[[-1.45657264e-10, -4.47944837e-09,  6.68332889e-11],\n",
      "        [-6.19162965e-09,  5.21596766e-09,  7.78011822e-11],\n",
      "        [ 2.89162752e-09,  1.52290722e-09,  1.26536381e-09]]]),\n",
      " 'scaled_posi_diffs': array([[[ 1.146885e-02,  5.734420e-03, -3.323000e-05],\n",
      "        [-1.146885e-02, -5.734420e-03,  3.323000e-05]]])}\n"
     ]
    }
   ],
   "source": [
    "show_info(relax_analyzer.get_diff)\n",
    "pprint(relax_analyzer.get_diff(is_original_frame=True))"
   ]
  }
 ],
 "metadata": {
  "kernelspec": {
   "display_name": "twinpy",
   "language": "python",
   "name": "twinpy"
  },
  "language_info": {
   "codemirror_mode": {
    "name": "ipython",
    "version": 3
   },
   "file_extension": ".py",
   "mimetype": "text/x-python",
   "name": "python",
   "nbconvert_exporter": "python",
   "pygments_lexer": "ipython3",
   "version": "3.7.6"
  }
 },
 "nbformat": 4,
 "nbformat_minor": 4
}

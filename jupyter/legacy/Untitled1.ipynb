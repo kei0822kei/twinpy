{
 "cells": [
  {
   "cell_type": "code",
   "execution_count": 1,
   "metadata": {},
   "outputs": [],
   "source": [
    "%aiida\n",
    "%load_ext autoreload\n",
    "%autoreload 2"
   ]
  },
  {
   "cell_type": "code",
   "execution_count": 2,
   "metadata": {},
   "outputs": [],
   "source": [
    "from twinpy.api_twinpy import get_twinpy_from_cell\n",
    "from twinpy.lattice.lattice import get_hexagonal_lattice_from_a_c\n",
    "from twinpy.properties.hexagonal import get_atom_positions\n",
    "from twinpy.structure.base import get_cell_from_phonopy_structure\n",
    "from twinpy.file_io import write_poscar\n",
    "import spglib\n",
    "import numpy as np"
   ]
  },
  {
   "cell_type": "code",
   "execution_count": 3,
   "metadata": {},
   "outputs": [],
   "source": [
    "lattice = get_hexagonal_lattice_from_a_c(a=2.93, c=4.65)\n",
    "scaled_positions = get_atom_positions(wyckoff='c')\n",
    "symbols = ['Ti'] * 2\n",
    "cell = (lattice, scaled_positions, symbols)\n",
    "twinpy = get_twinpy_from_cell(cell, twinmode='10-12')\n",
    "# twinpy = get_twinpy_from_cell(cell, twinmode='11-21')"
   ]
  },
  {
   "cell_type": "code",
   "execution_count": 225,
   "metadata": {},
   "outputs": [],
   "source": [
    "ratio = 0.3\n",
    "twinpy.set_shear(shear_strain_ratio=ratio)"
   ]
  },
  {
   "cell_type": "code",
   "execution_count": 226,
   "metadata": {},
   "outputs": [
    {
     "name": "stdout",
     "output_type": "stream",
     "text": [
      "/home/mizo/fuga/base.poscar\n",
      "/home/mizo/fuga/primitive.poscar\n",
      "/home/mizo/fuga/conventional.poscar\n"
     ]
    }
   ],
   "source": [
    "twinpy.write_shear_structure(structure_type='base', filename = '/home/mizo/fuga/base.poscar')\n",
    "twinpy.write_shear_structure(structure_type='primitive', filename = '/home/mizo/fuga/primitive.poscar')\n",
    "twinpy.write_shear_structure(structure_type='conventional', filename = '/home/mizo/fuga/conventional.poscar')"
   ]
  },
  {
   "cell_type": "code",
   "execution_count": 227,
   "metadata": {},
   "outputs": [
    {
     "name": "stdout",
     "output_type": "stream",
     "text": [
      "/home/mizo/fuga/base_primitive.poscar\n"
     ]
    }
   ],
   "source": [
    "base = twinpy.get_shear_phonopy_structure(structure_type='base')\n",
    "primitive = twinpy.get_shear_phonopy_structure(structure_type='primitive')\n",
    "conventional = twinpy.get_shear_phonopy_structure(structure_type='conventional')\n",
    "base_cell = get_cell_from_phonopy_structure(base)\n",
    "primitive_cell = get_cell_from_phonopy_structure(primitive)\n",
    "conventional_cell = get_cell_from_phonopy_structure(conventional)\n",
    "base_primitive_cell = twinpy.shear.get_base_primitive_cell(ratio=ratio)\n",
    "write_poscar(filename='/home/mizo/fuga/base_primitive.poscar', *base_primitive_cell)"
   ]
  },
  {
   "cell_type": "code",
   "execution_count": 228,
   "metadata": {},
   "outputs": [
    {
     "data": {
      "text/plain": [
       "(array([[ 1.465     , -2.53745443,  0.        ],\n",
       "        [ 4.395     ,  2.53745443,  4.65      ],\n",
       "        [-4.16500305, -2.40466563,  4.89334148]]),\n",
       " array([[ 0.5       ,  0.20833333,  0.04166667],\n",
       "        [-0.5       , -0.20833333, -0.04166667],\n",
       "        [ 1.        ,  0.45833333,  0.79166667],\n",
       "        [ 0.        ,  0.04166667,  0.70833333],\n",
       "        [ 0.5       ,  0.70833333,  0.54166667],\n",
       "        [-0.5       ,  0.29166667,  0.45833333],\n",
       "        [ 1.        ,  0.95833333,  0.29166667],\n",
       "        [ 0.        ,  0.54166667,  0.20833333]]),\n",
       " ['Ti', 'Ti', 'Ti', 'Ti', 'Ti', 'Ti', 'Ti', 'Ti'])"
      ]
     },
     "execution_count": 228,
     "metadata": {},
     "output_type": "execute_result"
    }
   ],
   "source": [
    "base_cell"
   ]
  },
  {
   "cell_type": "code",
   "execution_count": 229,
   "metadata": {},
   "outputs": [
    {
     "data": {
      "text/plain": [
       "(array([[ 2.47180878, -1.465     ,  0.        ],\n",
       "        [ 2.47180878,  1.465     ,  0.        ],\n",
       "        [-0.01530974,  0.        ,  4.77349349]]),\n",
       " array([[0.66666667, 0.66666667, 0.75      ],\n",
       "        [0.33333333, 0.33333333, 0.25      ]]),\n",
       " ['Ti', 'Ti'])"
      ]
     },
     "execution_count": 229,
     "metadata": {},
     "output_type": "execute_result"
    }
   ],
   "source": [
    "primitive_cell"
   ]
  },
  {
   "cell_type": "code",
   "execution_count": 230,
   "metadata": {},
   "outputs": [
    {
     "data": {
      "text/plain": [
       "(array([[ 4.94361755,  0.        ,  0.        ],\n",
       "        [ 0.        ,  2.93      ,  0.        ],\n",
       "        [-0.01530974,  0.        ,  4.77349349]]),\n",
       " array([[0.16666667, 0.5       , 0.75      ],\n",
       "        [0.83333333, 0.5       , 0.25      ],\n",
       "        [0.66666667, 0.        , 0.75      ],\n",
       "        [0.33333333, 0.        , 0.25      ]]),\n",
       " ['Ti', 'Ti', 'Ti', 'Ti'])"
      ]
     },
     "execution_count": 230,
     "metadata": {},
     "output_type": "execute_result"
    }
   ],
   "source": [
    "conventional_cell"
   ]
  },
  {
   "cell_type": "code",
   "execution_count": 231,
   "metadata": {},
   "outputs": [
    {
     "data": {
      "text/plain": [
       "(array([[ 2.87250076, -0.0331972 , -0.06083537],\n",
       "        [-1.465     ,  2.53745443,  0.        ],\n",
       "        [ 0.11499847,  0.0663944 ,  4.77167074]]),\n",
       " array([[0.33333333, 0.66666667, 0.25      ],\n",
       "        [0.66666667, 0.33333333, 0.75      ]]),\n",
       " ['Ti', 'Ti'])"
      ]
     },
     "execution_count": 231,
     "metadata": {},
     "output_type": "execute_result"
    }
   ],
   "source": [
    "base_primitive_cell"
   ]
  },
  {
   "cell_type": "code",
   "execution_count": 232,
   "metadata": {},
   "outputs": [
    {
     "name": "stdout",
     "output_type": "stream",
     "text": [
      "/home/mizo/fuga/reduced.poscar\n"
     ]
    }
   ],
   "source": [
    "reduced_lattice = spglib.delaunay_reduce(base_primitive_cell[0])\n",
    "reduced_scaled_positions = np.dot(np.dot(np.linalg.inv(reduced_lattice.T), base_primitive_cell[0].T),\n",
    "                                  base_primitive_cell[1].T).T % 1\n",
    "reduced_symbols = ['Ti'] * 2\n",
    "reduced_cell = (reduced_lattice, reduced_scaled_positions, reduced_symbols)\n",
    "write_poscar(filename='/home/mizo/fuga/reduced.poscar', *reduced_cell)"
   ]
  },
  {
   "cell_type": "code",
   "execution_count": 233,
   "metadata": {},
   "outputs": [],
   "source": [
    "P = np.dot(reduced_cell[0].T, np.linalg.inv(primitive_cell[0].T))"
   ]
  },
  {
   "cell_type": "code",
   "execution_count": 234,
   "metadata": {},
   "outputs": [
    {
     "data": {
      "text/plain": [
       "array([[ 1.40750076,  2.87250076, -0.11499847],\n",
       "       [ 2.50425723, -0.0331972 , -0.0663944 ],\n",
       "       [-0.06083537, -0.06083537, -4.77167074]])"
      ]
     },
     "execution_count": 234,
     "metadata": {},
     "output_type": "execute_result"
    }
   ],
   "source": [
    "np.dot(P, primitive_cell[0].T)"
   ]
  },
  {
   "cell_type": "code",
   "execution_count": 235,
   "metadata": {},
   "outputs": [
    {
     "data": {
      "text/plain": [
       "array([[ 1.40750076,  2.87250076, -0.11499847],\n",
       "       [ 2.50425723, -0.0331972 , -0.0663944 ],\n",
       "       [-0.06083537, -0.06083537, -4.77167074]])"
      ]
     },
     "execution_count": 235,
     "metadata": {},
     "output_type": "execute_result"
    }
   ],
   "source": [
    "reduced_cell[0].T"
   ]
  },
  {
   "cell_type": "code",
   "execution_count": 236,
   "metadata": {},
   "outputs": [],
   "source": [
    "a = np.dot(np.dot(np.linalg.inv(P), reduced_cell[0].T), reduced_cell[1].T).T"
   ]
  },
  {
   "cell_type": "code",
   "execution_count": 237,
   "metadata": {},
   "outputs": [],
   "source": [
    "b = np.dot(primitive_cell[0].T, primitive_cell[1].T).T"
   ]
  },
  {
   "cell_type": "code",
   "execution_count": 238,
   "metadata": {},
   "outputs": [
    {
     "data": {
      "text/plain": [
       "array([[0.66666667, 0.66666667, 0.75      ],\n",
       "       [0.33333333, 0.33333333, 0.25      ]])"
      ]
     },
     "execution_count": 238,
     "metadata": {},
     "output_type": "execute_result"
    }
   ],
   "source": [
    "c = np.dot(np.linalg.inv(primitive_cell[0].T), a.T).T\n",
    "c"
   ]
  },
  {
   "cell_type": "code",
   "execution_count": 239,
   "metadata": {},
   "outputs": [
    {
     "data": {
      "text/plain": [
       "array([[0.66666667, 0.66666667, 0.75      ],\n",
       "       [0.33333333, 0.33333333, 0.25      ]])"
      ]
     },
     "execution_count": 239,
     "metadata": {},
     "output_type": "execute_result"
    }
   ],
   "source": [
    "d = np.dot(np.linalg.inv(primitive_cell[0].T), b.T).T\n",
    "d"
   ]
  },
  {
   "cell_type": "code",
   "execution_count": 240,
   "metadata": {},
   "outputs": [
    {
     "data": {
      "text/plain": [
       "array([[3.33066907e-16, 1.00000000e+00, 0.00000000e+00],\n",
       "       [0.00000000e+00, 1.00000000e+00, 0.00000000e+00]])"
      ]
     },
     "execution_count": 240,
     "metadata": {},
     "output_type": "execute_result"
    }
   ],
   "source": [
    "(c - d) % 1"
   ]
  },
  {
   "cell_type": "code",
   "execution_count": 241,
   "metadata": {},
   "outputs": [
    {
     "data": {
      "text/plain": [
       "(array([[ 1.40750076,  2.50425723, -0.06083537],\n",
       "        [ 2.87250076, -0.0331972 , -0.06083537],\n",
       "        [-0.11499847, -0.0663944 , -4.77167074]]),\n",
       " array([[0.66666667, 0.66666667, 0.75      ],\n",
       "        [0.33333333, 0.33333333, 0.25      ]]),\n",
       " ['Ti', 'Ti'])"
      ]
     },
     "execution_count": 241,
     "metadata": {},
     "output_type": "execute_result"
    }
   ],
   "source": [
    "reduced_cell"
   ]
  },
  {
   "cell_type": "code",
   "execution_count": 242,
   "metadata": {},
   "outputs": [
    {
     "data": {
      "text/plain": [
       "array([[0.66666667, 0.66666667, 0.75      ],\n",
       "       [0.33333333, 0.33333333, 0.25      ]])"
      ]
     },
     "execution_count": 242,
     "metadata": {},
     "output_type": "execute_result"
    }
   ],
   "source": [
    "d"
   ]
  },
  {
   "cell_type": "code",
   "execution_count": 243,
   "metadata": {},
   "outputs": [
    {
     "name": "stdout",
     "output_type": "stream",
     "text": [
      "/home/mizo/fuga/hoge.poscar\n"
     ]
    }
   ],
   "source": [
    "lat = primitive_cell[0]\n",
    "posi = a\n",
    "symbols = ['Ti'] * 2\n",
    "cell = (lat, posi, symbols)\n",
    "write_poscar(filename='/home/mizo/fuga/hoge.poscar', *cell)"
   ]
  },
  {
   "cell_type": "code",
   "execution_count": 244,
   "metadata": {},
   "outputs": [
    {
     "data": {
      "text/plain": [
       "array([[ 8.65763073e-01,  4.99848543e-01, -2.46116814e-02],\n",
       "       [ 5.00000000e-01, -8.66025404e-01,  1.05130167e-17],\n",
       "       [-2.13143413e-02, -1.23058407e-02, -9.99697087e-01]])"
      ]
     },
     "execution_count": 244,
     "metadata": {},
     "output_type": "execute_result"
    }
   ],
   "source": [
    "np.linalg.inv(P)"
   ]
  },
  {
   "cell_type": "code",
   "execution_count": 245,
   "metadata": {},
   "outputs": [
    {
     "data": {
      "text/plain": [
       "array([[ 8.65763073e-01,  4.99848543e-01, -2.46116814e-02],\n",
       "       [ 5.00000000e-01, -8.66025404e-01, -1.54117944e-18],\n",
       "       [-2.13143413e-02, -1.23058407e-02, -9.99697087e-01]])"
      ]
     },
     "execution_count": 245,
     "metadata": {},
     "output_type": "execute_result"
    }
   ],
   "source": [
    "P.T"
   ]
  },
  {
   "cell_type": "code",
   "execution_count": 246,
   "metadata": {},
   "outputs": [
    {
     "data": {
      "text/plain": [
       "(array([[ 2.87250076, -0.0331972 , -0.06083537],\n",
       "        [-1.465     ,  2.53745443,  0.        ],\n",
       "        [ 0.11499847,  0.0663944 ,  4.77167074]]),\n",
       " array([[0.33333333, 0.66666667, 0.25      ],\n",
       "        [0.66666667, 0.33333333, 0.75      ]]),\n",
       " ['Ti', 'Ti'])"
      ]
     },
     "execution_count": 246,
     "metadata": {},
     "output_type": "execute_result"
    }
   ],
   "source": [
    "base_primitive_cell"
   ]
  },
  {
   "cell_type": "code",
   "execution_count": 247,
   "metadata": {},
   "outputs": [],
   "source": [
    "X_r_bar = np.dot(np.dot(np.linalg.inv(primitive_cell[0].T), base_primitive_cell[0].T),\n",
    "                 base_primitive_cell[1].T).T % 1"
   ]
  },
  {
   "cell_type": "code",
   "execution_count": 248,
   "metadata": {},
   "outputs": [
    {
     "data": {
      "text/plain": [
       "array([[3.33333333e-01, 1.00000000e+00, 5.00000000e-01],\n",
       "       [6.66666667e-01, 1.66533454e-16, 5.00000000e-01]])"
      ]
     },
     "execution_count": 248,
     "metadata": {},
     "output_type": "execute_result"
    }
   ],
   "source": [
    "(primitive_cell[1] - base_primitive_cell[1]) % 1"
   ]
  },
  {
   "cell_type": "code",
   "execution_count": 257,
   "metadata": {},
   "outputs": [
    {
     "data": {
      "text/plain": [
       "array([[ 2.47180878,  2.47180878, -0.01530974],\n",
       "       [-1.465     ,  1.465     ,  0.        ],\n",
       "       [ 0.        ,  0.        ,  4.77349349]])"
      ]
     },
     "execution_count": 257,
     "metadata": {},
     "output_type": "execute_result"
    }
   ],
   "source": [
    "primitive_cell[0].T"
   ]
  },
  {
   "cell_type": "code",
   "execution_count": 252,
   "metadata": {},
   "outputs": [
    {
     "data": {
      "text/plain": [
       "(array([[ 2.87250076, -0.0331972 , -0.06083537],\n",
       "        [-1.465     ,  2.53745443,  0.        ],\n",
       "        [ 0.11499847,  0.0663944 ,  4.77167074]]),\n",
       " array([[0.33333333, 0.66666667, 0.25      ],\n",
       "        [0.66666667, 0.33333333, 0.75      ]]),\n",
       " ['Ti', 'Ti'])"
      ]
     },
     "execution_count": 252,
     "metadata": {},
     "output_type": "execute_result"
    }
   ],
   "source": [
    "base_primitive_cell"
   ]
  },
  {
   "cell_type": "code",
   "execution_count": 254,
   "metadata": {},
   "outputs": [
    {
     "data": {
      "text/plain": [
       "array([[ 1.40750076,  2.87250076, -0.11499847],\n",
       "       [ 2.50425723, -0.0331972 , -0.0663944 ],\n",
       "       [-0.06083537, -0.06083537, -4.77167074]])"
      ]
     },
     "execution_count": 254,
     "metadata": {},
     "output_type": "execute_result"
    }
   ],
   "source": [
    "reduced_lattice.T"
   ]
  },
  {
   "cell_type": "code",
   "execution_count": 264,
   "metadata": {},
   "outputs": [
    {
     "name": "stdout",
     "output_type": "stream",
     "text": [
      "Space group type: C2/m (12)\n",
      "Transformation matrix:\n",
      "   0  0  0\n",
      "   0  0  0\n",
      "   0 -1  0\n",
      "Origin shift: 0.000000 0.000000 0.000000\n"
     ]
    }
   ],
   "source": [
    "# lattice = [[7.17851431, 0, 0],  # a\n",
    "#            [0, 3.99943947, 0],  # b\n",
    "#            [0, 0, 8.57154746]]  # c\n",
    "# points = [[0.0, 0.84688439, 0.1203133],\n",
    "#           [0.0, 0.65311561, 0.6203133],\n",
    "#           [0.0, 0.34688439, 0.3796867],\n",
    "#           [0.0, 0.15311561, 0.8796867],\n",
    "#           [0.5, 0.34688439, 0.1203133],\n",
    "#           [0.5, 0.15311561, 0.6203133],\n",
    "#           [0.5, 0.84688439, 0.3796867],\n",
    "#           [0.5, 0.65311561, 0.8796867]]\n",
    "# numbers = [35,] * len(points)\n",
    "# cell = (lattice, points, numbers)\n",
    "cell = list(base_cell)\n",
    "cell[2] = [22] * 8\n",
    "cell = tuple(cell)\n",
    "dataset = spglib.get_symmetry_dataset(cell)\n",
    "print(\"Space group type: %s (%d)\"\n",
    "      % (dataset['international'], dataset['number']))\n",
    "print(\"Transformation matrix:\")\n",
    "for x in dataset['transformation_matrix']:\n",
    "    print(\"  %2d %2d %2d\" % tuple(x))\n",
    "print(\"Origin shift: %f %f %f\" % tuple(dataset['origin_shift']))"
   ]
  },
  {
   "cell_type": "code",
   "execution_count": 259,
   "metadata": {},
   "outputs": [
    {
     "data": {
      "text/plain": [
       "(array([[ 2.87250076, -0.0331972 , -0.06083537],\n",
       "        [-1.465     ,  2.53745443,  0.        ],\n",
       "        [ 0.11499847,  0.0663944 ,  4.77167074]]),\n",
       " array([[0.33333333, 0.66666667, 0.25      ],\n",
       "        [0.66666667, 0.33333333, 0.75      ]]),\n",
       " ['Ti', 'Ti'])"
      ]
     },
     "execution_count": 259,
     "metadata": {},
     "output_type": "execute_result"
    }
   ],
   "source": []
  },
  {
   "cell_type": "code",
   "execution_count": null,
   "metadata": {},
   "outputs": [],
   "source": []
  }
 ],
 "metadata": {
  "kernelspec": {
   "display_name": "twinpy",
   "language": "python",
   "name": "twinpy"
  },
  "language_info": {
   "codemirror_mode": {
    "name": "ipython",
    "version": 3
   },
   "file_extension": ".py",
   "mimetype": "text/x-python",
   "name": "python",
   "nbconvert_exporter": "python",
   "pygments_lexer": "ipython3",
   "version": "3.7.6"
  }
 },
 "nbformat": 4,
 "nbformat_minor": 4
}

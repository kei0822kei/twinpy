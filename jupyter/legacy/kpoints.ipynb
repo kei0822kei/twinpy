{
 "cells": [
  {
   "cell_type": "code",
   "execution_count": 1,
   "metadata": {},
   "outputs": [],
   "source": [
    "%load_ext autoreload\n",
    "%autoreload 2"
   ]
  },
  {
   "cell_type": "code",
   "execution_count": 10,
   "metadata": {},
   "outputs": [],
   "source": [
    "from aiida_twinpy.common.kpoints import get_mesh_offset_from_direct_lattice\n",
    "from pymatgen.io.vasp.inputs import Poscar\n",
    "from twinpy.interfaces.pymatgen import get_cell_from_pymatgen_structure\n",
    "from twinpy.lattice.lattice import get_hexagonal_lattice_from_a_c, Lattice"
   ]
  },
  {
   "cell_type": "code",
   "execution_count": 5,
   "metadata": {},
   "outputs": [],
   "source": [
    "lattice = get_hexagonal_lattice_from_a_c(a=2.93, c=4.65)"
   ]
  },
  {
   "cell_type": "code",
   "execution_count": 15,
   "metadata": {},
   "outputs": [
    {
     "data": {
      "text/plain": [
       "{'abc': array([2.47617661, 2.47617661, 1.35122265]),\n",
       " 'mesh': array([13, 13,  8]),\n",
       " 'intervals': array([0.20634805, 0.20634805, 0.19303181]),\n",
       " 'offset': (0.0, 0.0, 0.5),\n",
       " 'is_hexagonal_standardized': True}"
      ]
     },
     "execution_count": 15,
     "metadata": {},
     "output_type": "execute_result"
    }
   ],
   "source": [
    "get_mesh_offset_from_direct_lattice(lattice=lattice,\n",
    "                                    interval=0.2,\n",
    "                                    include_two_pi=True)"
   ]
  },
  {
   "cell_type": "code",
   "execution_count": 12,
   "metadata": {},
   "outputs": [
    {
     "data": {
      "text/plain": [
       "array([2.93, 2.93, 4.65])"
      ]
     },
     "execution_count": 12,
     "metadata": {},
     "output_type": "execute_result"
    }
   ],
   "source": [
    "Lattice(lattice).abc"
   ]
  },
  {
   "cell_type": "code",
   "execution_count": null,
   "metadata": {},
   "outputs": [],
   "source": []
  }
 ],
 "metadata": {
  "kernelspec": {
   "display_name": "twinpy",
   "language": "python",
   "name": "twinpy"
  },
  "language_info": {
   "codemirror_mode": {
    "name": "ipython",
    "version": 3
   },
   "file_extension": ".py",
   "mimetype": "text/x-python",
   "name": "python",
   "nbconvert_exporter": "python",
   "pygments_lexer": "ipython3",
   "version": "3.7.6"
  }
 },
 "nbformat": 4,
 "nbformat_minor": 4
}

{
 "cells": [
  {
   "cell_type": "code",
   "execution_count": 53,
   "metadata": {},
   "outputs": [
    {
     "name": "stdout",
     "output_type": "stream",
     "text": [
      "The autoreload extension is already loaded. To reload it, use:\n",
      "  %reload_ext autoreload\n"
     ]
    }
   ],
   "source": [
    "%aiida\n",
    "%load_ext autoreload\n",
    "%autoreload 2"
   ]
  },
  {
   "cell_type": "code",
   "execution_count": 179,
   "metadata": {},
   "outputs": [],
   "source": [
    "from matplotlib import pyplot as plt\n",
    "from pymatgen.io.vasp.outputs import Outcar\n",
    "from pymatgen.io.vasp.outputs import Oszicar\n",
    "from pymatgen.io.vasp.inputs import Poscar\n",
    "from twinpy.plot.base import line_chart\n",
    "import numpy as np\n",
    "import os"
   ]
  },
  {
   "cell_type": "code",
   "execution_count": 256,
   "metadata": {},
   "outputs": [],
   "source": [
    "# bulk_energy = -3.4403421  # k17 17 10\n",
    "bulk_energy = -3.4391407\n",
    "# bulk_energy = -3.438"
   ]
  },
  {
   "cell_type": "code",
   "execution_count": 257,
   "metadata": {},
   "outputs": [],
   "source": [
    "def get_energy_per_atom(dirname):\n",
    "    pos = Poscar.from_file(os.path.join(dirname, 'POSCAR'))\n",
    "    # outcar = Outcar(os.path.join(dirname, 'OUTCAR'))\n",
    "    oszicar = Oszicar(os.path.join(dirname, 'OSZICAR'))\n",
    "    atoms = pos.natoms[0]\n",
    "    # energy = outcar.final_energy  # F\n",
    "    # energy = outcar.final_energy  # F\n",
    "    energy = oszicar.final_energy   # E0\n",
    "    return energy, atoms"
   ]
  },
  {
   "cell_type": "code",
   "execution_count": 265,
   "metadata": {},
   "outputs": [],
   "source": [
    "# dirname = \"/home/mizo/vega/project/Mg_twin/layers/relax/l06\"\n",
    "# relax_dir = \"/home/mizo/vega/project/Mg_twin/layers/relax\"\n",
    "relax_dir = \"/home/mizo/vega/project/Mg_twin/relax\""
   ]
  },
  {
   "cell_type": "code",
   "execution_count": 266,
   "metadata": {},
   "outputs": [
    {
     "name": "stdout",
     "output_type": "stream",
     "text": [
      "-47.498423 eV\n",
      "28\n"
     ]
    }
   ],
   "source": [
    "energy, atoms = get_energy_per_atom(dirname)\n",
    "print(energy)\n",
    "print(atoms)"
   ]
  },
  {
   "cell_type": "code",
   "execution_count": 267,
   "metadata": {},
   "outputs": [
    {
     "data": {
      "text/plain": [
       "23.89909923444891"
      ]
     },
     "execution_count": 267,
     "metadata": {},
     "output_type": "execute_result"
    }
   ],
   "source": [
    "A = pos.structure.lattice.a * pos.structure.lattice.b\n",
    "A"
   ]
  },
  {
   "cell_type": "code",
   "execution_count": 268,
   "metadata": {},
   "outputs": [
    {
     "name": "stdout",
     "output_type": "stream",
     "text": [
      "d-0.06\n",
      "d-0.12\n",
      "d0\n",
      "d0.06\n",
      "d0.12\n",
      "d0.18\n"
     ]
    }
   ],
   "source": [
    "energies = []\n",
    "names = []\n",
    "natoms = []\n",
    "lst = os.listdir(relax_dir)\n",
    "lst.sort()\n",
    "for name in lst:\n",
    "    print(name)\n",
    "    energy, atoms = get_energy_per_atom(os.path.join(relax_dir, name))\n",
    "    energies.append(energy)\n",
    "    names.append(name)\n",
    "    natoms.append(atoms)"
   ]
  },
  {
   "cell_type": "code",
   "execution_count": 269,
   "metadata": {},
   "outputs": [
    {
     "name": "stdout",
     "output_type": "stream",
     "text": [
      "[0.44085759999999397, 0.4781765999999976, 0.4191605999999979, 0.41261859999999473, 0.4209475999999981, 0.4422005999999925]\n",
      "[36, 36, 36, 36, 36, 36]\n",
      "-3.4391407\n"
     ]
    }
   ],
   "source": [
    "excess_energies = []\n",
    "for energy, natom in zip(energies, natoms):\n",
    "    excess_energy = energy - bulk_energy * (natom/2)\n",
    "    excess_energies.append(excess_energy)\n",
    "print(excess_energies)\n",
    "print(natoms)\n",
    "print(bulk_energy)"
   ]
  },
  {
   "cell_type": "code",
   "execution_count": 271,
   "metadata": {},
   "outputs": [
    {
     "data": {
      "image/png": "[encoded data removed]",
      "text/plain": [
       "<Figure size 432x288 with 1 Axes>"
      ]
     },
     "metadata": {
      "needs_background": "light"
     },
     "output_type": "display_data"
    }
   ],
   "source": [
    "fig = plt.figure()\n",
    "ax = fig.add_subplot(111)\n",
    "# line_chart(ax, layers, excess_energies, \"layers num\", \"energy\")\n",
    "line_chart(ax, [i for i in range(len(excess_energies))], excess_energies, \"layers num\", \"energy\")"
   ]
  },
  {
   "cell_type": "code",
   "execution_count": 272,
   "metadata": {},
   "outputs": [
    {
     "data": {
      "image/png": "[encoded data removed]",
      "text/plain": [
       "<Figure size 432x288 with 1 Axes>"
      ]
     },
     "metadata": {
      "needs_background": "light"
     },
     "output_type": "display_data"
    }
   ],
   "source": [
    "eV = 1.6022 * 10 ** (-16)\n",
    "ang = 10 ** (-10)\n",
    "unit = eV / ang ** 2\n",
    "formation = np.array(excess_energies) / (2*A) * unit\n",
    "fig = plt.figure()\n",
    "ax = fig.add_subplot(111)\n",
    "# line_chart(ax, layers, formation, \"layers num\", \"formation energy\")\n",
    "line_chart(ax, [i for i in range(len(formation))], formation, \"layers num\", \"formation energy\")"
   ]
  },
  {
   "cell_type": "code",
   "execution_count": 157,
   "metadata": {},
   "outputs": [],
   "source": [
    "oszicar = Oszicar(os.path.join(relax_dir, 'l06', 'OSZICAR'))\n",
    "outcar = Outcar(os.path.join(relax_dir, 'l06', 'OUTCAR'))"
   ]
  },
  {
   "cell_type": "code",
   "execution_count": 160,
   "metadata": {},
   "outputs": [
    {
     "data": {
      "text/plain": [
       "[{'F': -47.49924, 'E0': -47.498423, 'dE': -0.00245113}]"
      ]
     },
     "execution_count": 160,
     "metadata": {},
     "output_type": "execute_result"
    }
   ],
   "source": [
    "oszicar.ionic_steps"
   ]
  }
 ],
 "metadata": {
  "kernelspec": {
   "display_name": "twinpy",
   "language": "python",
   "name": "twinpy"
  },
  "language_info": {
   "codemirror_mode": {
    "name": "ipython",
    "version": 3
   },
   "file_extension": ".py",
   "mimetype": "text/x-python",
   "name": "python",
   "nbconvert_exporter": "python",
   "pygments_lexer": "ipython3",
   "version": "3.7.6"
  }
 },
 "nbformat": 4,
 "nbformat_minor": 4
}
